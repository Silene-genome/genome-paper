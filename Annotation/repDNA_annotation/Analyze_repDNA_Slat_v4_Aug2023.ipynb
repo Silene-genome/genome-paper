{
 "cells": [
  {
   "cell_type": "markdown",
   "metadata": {},
   "source": [
    "## Parse final GFF"
   ]
  },
  {
   "cell_type": "code",
   "execution_count": 18,
   "metadata": {
    "scrolled": false
   },
   "outputs": [
    {
     "name": "stdout",
     "output_type": "stream",
     "text": [
      "-rw-rw-r-- 1 pavel pavel 595345692 říj 17 14:55 Slat_v4_repDNA_annot_Oct_2023.gff\r\n"
     ]
    }
   ],
   "source": [
    "! ls -al Slat_v4_repDNA_annot_Oct_2023.gff"
   ]
  },
  {
   "cell_type": "code",
   "execution_count": 19,
   "metadata": {},
   "outputs": [],
   "source": [
    "fa = \"Slat_v4_repDNA_annot_Oct_2023.gff\""
   ]
  },
  {
   "cell_type": "code",
   "execution_count": 20,
   "metadata": {},
   "outputs": [
    {
     "name": "stdout",
     "output_type": "stream",
     "text": [
      "mkdir: cannot create directory ‘analysis_v3’: File exists\r\n"
     ]
    }
   ],
   "source": [
    "! mkdir analysis_v3"
   ]
  },
  {
   "cell_type": "code",
   "execution_count": 21,
   "metadata": {},
   "outputs": [],
   "source": [
    "# subsets\n",
    "! grep \"DNA\\/[DH]\" {fa} > analysis_v3/DNA_TEs_subset.gff\n",
    "! grep \"MITE\\/\" {fa} > analysis_v3/MITE_TEs_subset.gff"
   ]
  },
  {
   "cell_type": "code",
   "execution_count": 22,
   "metadata": {},
   "outputs": [],
   "source": [
    "! grep \"LTR\\/\" {fa} > analysis_v3/LTR_TEs_subset.gff"
   ]
  },
  {
   "cell_type": "code",
   "execution_count": 23,
   "metadata": {},
   "outputs": [],
   "source": [
    "! grep \"LINE\" {fa} > analysis_v3/LINE_subset.gff"
   ]
  },
  {
   "cell_type": "code",
   "execution_count": 24,
   "metadata": {},
   "outputs": [],
   "source": [
    "! grep \"Satellites\" {fa} > analysis_v3/satellites_subset.gff"
   ]
  },
  {
   "cell_type": "code",
   "execution_count": 25,
   "metadata": {},
   "outputs": [],
   "source": [
    "! grep \"rDNA\" {fa} > analysis_v3/rdna_subset.gff"
   ]
  },
  {
   "cell_type": "code",
   "execution_count": 26,
   "metadata": {},
   "outputs": [],
   "source": [
    "import os\n",
    "destDir = os.getcwd() + '/analysis_v3'\n",
    "os.chdir(destDir)"
   ]
  },
  {
   "cell_type": "code",
   "execution_count": 27,
   "metadata": {},
   "outputs": [
    {
     "name": "stdout",
     "output_type": "stream",
     "text": [
      "/mnt/hdd_6TB/40_Slat_assembly_v4/RepMask_newEDTA_merge_Oct_2023/analysis_v3\n"
     ]
    }
   ],
   "source": [
    "print(os.getcwd())"
   ]
  },
  {
   "cell_type": "code",
   "execution_count": 28,
   "metadata": {
    "scrolled": false
   },
   "outputs": [
    {
     "name": "stdout",
     "output_type": "stream",
     "text": [
      "DNA_TEs_subset.gff  LTR_TEs_subset.gff\t rdna_subset.gff\r\n",
      "LINE_subset.gff     MITE_TEs_subset.gff  satellites_subset.gff\r\n"
     ]
    }
   ],
   "source": [
    "! ls *gff"
   ]
  },
  {
   "cell_type": "code",
   "execution_count": 30,
   "metadata": {},
   "outputs": [
    {
     "name": "stdout",
     "output_type": "stream",
     "text": [
      "{'chr1': 200709468, 'chr10': 165488795, 'chr11': 209616475, 'chr2': 199635652, 'chr3': 153359320, 'chr4': 112764170, 'chr5': 91147008, 'chr6': 141279031, 'chr7': 128518071, 'chr8': 113857337, 'chr9': 226323612, 'chrX': 346484273, 'chrY': 497814031} \n",
      " {'chr1': 200602813, 'chr10': 165474827, 'chr11': 209211419, 'chr2': 199336714, 'chr3': 152962667, 'chr4': 112739747, 'chr5': 87672558, 'chr6': 138463458, 'chr7': 127163725, 'chr8': 110818139, 'chr9': 225456203, 'chrX': 323749825, 'chrY': 494938722}\n"
     ]
    }
   ],
   "source": [
    "from Bio import SeqIO\n",
    "\n",
    "genome_fa = \"../../S.latifolia_v4.0.genome.fna\"\n",
    "chrLen = {}\n",
    "noNs_chrLen = {}\n",
    "for r in SeqIO.parse(genome_fa,\"fasta\"):\n",
    "    chrLen[r.id] = len(r.seq)\n",
    "    noNs_chrLen[r.id] = sum([r.seq.count(b) for b in 'ACGT'])\n",
    "print(chrLen,'\\n',noNs_chrLen)"
   ]
  },
  {
   "cell_type": "code",
   "execution_count": 31,
   "metadata": {},
   "outputs": [
    {
     "data": {
      "text/plain": [
       "{'chr1': [200709468, 200602813, 0],\n",
       " 'chr10': [165488795, 165474827, 0],\n",
       " 'chr11': [209616475, 209211419, 0],\n",
       " 'chr2': [199635652, 199336714, 0],\n",
       " 'chr3': [153359320, 152962667, 0],\n",
       " 'chr4': [112764170, 112739747, 0],\n",
       " 'chr5': [91147008, 87672558, 0],\n",
       " 'chr6': [141279031, 138463458, 0],\n",
       " 'chr7': [128518071, 127163725, 0],\n",
       " 'chr8': [113857337, 110818139, 0],\n",
       " 'chr9': [226323612, 225456203, 0],\n",
       " 'chrX': [346484273, 323749825, 0],\n",
       " 'chrY': [497814031, 494938722, 0]}"
      ]
     },
     "execution_count": 31,
     "metadata": {},
     "output_type": "execute_result"
    }
   ],
   "source": [
    "seq_d = {ch:[chrLen[ch],noNs_chrLen[ch],0] for ch in chrLen}\n",
    "seq_d"
   ]
  },
  {
   "cell_type": "markdown",
   "metadata": {},
   "source": [
    "## LTR superfamilies"
   ]
  },
  {
   "cell_type": "code",
   "execution_count": 32,
   "metadata": {},
   "outputs": [],
   "source": [
    "! mkdir LTR_subsets"
   ]
  },
  {
   "cell_type": "code",
   "execution_count": 33,
   "metadata": {},
   "outputs": [
    {
     "name": "stdout",
     "output_type": "stream",
     "text": [
      "mkdir: cannot create directory ‘LTR_subsets’: File exists\r\n"
     ]
    }
   ],
   "source": [
    "# within LTR subset\n",
    "## 3 separate gffs: Gypsy, Copia, Unknown\n",
    "! mkdir LTR_subsets\n",
    "! grep \"\\/Gypsy\" LTR_TEs_subset.gff > LTR_subsets/Gypsy_subset.gff\n",
    "! grep \"\\/Copia\" LTR_TEs_subset.gff > LTR_subsets/Copia_subset.gff\n",
    "! grep \"\\/unknown\" LTR_TEs_subset.gff > LTR_subsets/Unknown_subset.gff"
   ]
  },
  {
   "cell_type": "code",
   "execution_count": 38,
   "metadata": {},
   "outputs": [],
   "source": [
    "def get_repArea(merged_bed, ch):\n",
    "    area = 0\n",
    "    with open(merged_bed) as bed:\n",
    "        for l in bed:\n",
    "            if l.startswith(ch+\"\\t\"):\n",
    "                area += (int(l.split(\"\\t\")[2])-int(l.split(\"\\t\")[1]))+1\n",
    "    return area\n",
    "\n",
    "def get_chStat(ch):\n",
    "    if ch == 'chrX':\n",
    "        return 'X'\n",
    "    elif ch == 'chrY':\n",
    "        return 'Y'\n",
    "    else:\n",
    "        return 'A'"
   ]
  },
  {
   "cell_type": "code",
   "execution_count": 39,
   "metadata": {
    "scrolled": true
   },
   "outputs": [
    {
     "name": "stdout",
     "output_type": "stream",
     "text": [
      "chr1\tCopia\t33311645\t200709468\t16.6\t200602813\t16.61\n",
      "chr10\tCopia\t24257409\t165488795\t14.66\t165474827\t14.66\n",
      "chr11\tCopia\t38451789\t209616475\t18.34\t209211419\t18.38\n",
      "chr2\tCopia\t32501634\t199635652\t16.28\t199336714\t16.3\n",
      "chr3\tCopia\t25817784\t153359320\t16.83\t152962667\t16.88\n",
      "chr4\tCopia\t18199547\t112764170\t16.14\t112739747\t16.14\n",
      "chr5\tCopia\t12255555\t91147008\t13.45\t87672558\t13.98\n",
      "chr6\tCopia\t23583072\t141279031\t16.69\t138463458\t17.03\n",
      "chr7\tCopia\t20549418\t128518071\t15.99\t127163725\t16.16\n",
      "chr8\tCopia\t17837076\t113857337\t15.67\t110818139\t16.1\n",
      "chr9\tCopia\t43385557\t226323612\t19.17\t225456203\t19.24\n",
      "chrX\tCopia\t53965831\t346484273\t15.58\t323749825\t16.67\n",
      "chrY\tCopia\t108079573\t497814031\t21.71\t494938722\t21.84\n",
      "chr1\tGypsy\t71223695\t200709468\t35.49\t200602813\t35.5\n",
      "chr10\tGypsy\t56816897\t165488795\t34.33\t165474827\t34.34\n",
      "chr11\tGypsy\t74273587\t209616475\t35.43\t209211419\t35.5\n",
      "chr2\tGypsy\t70529044\t199635652\t35.33\t199336714\t35.38\n",
      "chr3\tGypsy\t55166013\t153359320\t35.97\t152962667\t36.07\n",
      "chr4\tGypsy\t40130196\t112764170\t35.59\t112739747\t35.6\n",
      "chr5\tGypsy\t29155334\t91147008\t31.99\t87672558\t33.25\n",
      "chr6\tGypsy\t51751756\t141279031\t36.63\t138463458\t37.38\n",
      "chr7\tGypsy\t45517092\t128518071\t35.42\t127163725\t35.79\n",
      "chr8\tGypsy\t36673623\t113857337\t32.21\t110818139\t33.09\n",
      "chr9\tGypsy\t86780864\t226323612\t38.34\t225456203\t38.49\n",
      "chrX\tGypsy\t129332154\t346484273\t37.33\t323749825\t39.95\n",
      "chrY\tGypsy\t187539529\t497814031\t37.67\t494938722\t37.89\n",
      "chr1\tUnknown\t37382556\t200709468\t18.63\t200602813\t18.64\n",
      "chr10\tUnknown\t27969195\t165488795\t16.9\t165474827\t16.9\n",
      "chr11\tUnknown\t41744043\t209616475\t19.91\t209211419\t19.95\n",
      "chr2\tUnknown\t36571095\t199635652\t18.32\t199336714\t18.35\n",
      "chr3\tUnknown\t25489868\t153359320\t16.62\t152962667\t16.66\n",
      "chr4\tUnknown\t20048553\t112764170\t17.78\t112739747\t17.78\n",
      "chr5\tUnknown\t12110518\t91147008\t13.29\t87672558\t13.81\n",
      "chr6\tUnknown\t22646152\t141279031\t16.03\t138463458\t16.36\n",
      "chr7\tUnknown\t19814198\t128518071\t15.42\t127163725\t15.58\n",
      "chr8\tUnknown\t18876917\t113857337\t16.58\t110818139\t17.03\n",
      "chr9\tUnknown\t40886427\t226323612\t18.07\t225456203\t18.13\n",
      "chrX\tUnknown\t64496678\t346484273\t18.61\t323749825\t19.92\n",
      "chrY\tUnknown\t109528966\t497814031\t22.0\t494938722\t22.13\n"
     ]
    }
   ],
   "source": [
    "import glob\n",
    "\n",
    "axy_dict = {}\n",
    "for gff in glob.glob(\"LTR_subsets/*.gff\"):\n",
    "    merged_bed = gff.split('.')[0]+\"_merged.bed\"\n",
    "    cmd = f\"bedtools merge -i {gff} > {merged_bed}\"\n",
    "    returned_value = os.system(cmd)  # returns the exit code in unix\n",
    "    #print(f'CMD:{cmd}\\nreturned value:{returned_value}')\n",
    "    ann = gff.split(\"/\")[1].split(\"_\")[0]\n",
    "    axy_dict[ann] = {'A':[0,0,0],'X':[0,0,0],'Y':[0,0,0]}\n",
    "    for ch in chrLen:\n",
    "        rep_area = get_repArea(merged_bed, ch)\n",
    "        chStat = get_chStat(ch)\n",
    "        axy_dict[ann][chStat][0] += rep_area\n",
    "        axy_dict[ann][chStat][1] += chrLen[ch]\n",
    "        axy_dict[ann][chStat][2] += noNs_chrLen[ch]\n",
    "        #print(ann,chStat,ch,axy_dict[ann][chStat])\n",
    "        #axy_dict[ann][chStat].append([rep_area,chrLen[ch],noNs_chrLen[ch]])\n",
    "        perc = round((rep_area/chrLen[ch])*100,2)\n",
    "        nns_perc = round((rep_area/noNs_chrLen[ch])*100,2)\n",
    "        print(f\"{ch}\\t{ann}\\t{rep_area}\\t{chrLen[ch]}\\t{perc}\\t{noNs_chrLen[ch]}\\t{nns_perc}\")    "
   ]
  },
  {
   "cell_type": "code",
   "execution_count": 40,
   "metadata": {
    "scrolled": true
   },
   "outputs": [],
   "source": [
    "# 2. LTR superfamilies piePlot\n",
    "with open(\"Slat_LTR_superFams_proportion.tab\",\"w\") as out:\n",
    "    for ann in axy_dict:\n",
    "        for chStat in axy_dict[ann]:\n",
    "            rep_area = axy_dict[ann][chStat][0]\n",
    "            chLen = axy_dict[ann][chStat][1]\n",
    "            noNs_chLen = axy_dict[ann][chStat][2]\n",
    "            perc = round((rep_area/chLen)*100,2)\n",
    "            noNs_perc = round((rep_area/noNs_chLen)*100,2)\n",
    "            out.write(f\"{ann}\\t{chStat}\\t{rep_area}\\t{chLen}\\t{noNs_chLen}\\t{perc}\\t{noNs_perc}\\n\")"
   ]
  },
  {
   "cell_type": "markdown",
   "metadata": {},
   "source": [
    "## LTR families (lineages)"
   ]
  },
  {
   "cell_type": "code",
   "execution_count": 41,
   "metadata": {},
   "outputs": [],
   "source": [
    "# LTR families:\n",
    "ltr_fams = [\"Class_I|LTR|Ty1/copia\", \"Class_I|LTR|Ty1/copia|Ale\", \"Class_I|LTR|Ty1/copia|Alesia\", \n",
    "            \"Class_I|LTR|Ty1/copia|Angela\", \"Class_I|LTR|Ty1/copia|Bianca\", \"Class_I|LTR|Ty1/copia|Ikeros\", \n",
    "            \"Class_I|LTR|Ty1/copia|Ivana\", \"Class_I|LTR|Ty1/copia|SIRE\", \"Class_I|LTR|Ty1/copia|TAR\", \n",
    "            \"Class_I|LTR|Ty1/copia|Tork\", \"Class_I|LTR|Ty3/gypsy\", \"Class_I|LTR|Ty3/gypsy|chromovirus\", \n",
    "            \"Class_I|LTR|Ty3/gypsy|chromovirus|CRM\", \"Class_I|LTR|Ty3/gypsy|chromovirus|Galadriel\", \n",
    "            \"Class_I|LTR|Ty3/gypsy|chromovirus|Reina\", \"Class_I|LTR|Ty3/gypsy|chromovirus|Tekay\", \n",
    "            \"Class_I|LTR|Ty3/gypsy|non-chromovirus|OTA|Athila\", \"Class_I|LTR|Ty3/gypsy|non-chromovirus|OTA|Tat\", \n",
    "            \"Class_I|LTR|Ty3/gypsy|non-chromovirus|OTA|Tat|Ogre\", \n",
    "            \"Class_I|LTR|Ty3/gypsy|non-chromovirus|OTA|Tat|Retand\", \"Class_I|LTR|Ty3/gypsy|non-chromovirus|Phygy\"]"
   ]
  },
  {
   "cell_type": "code",
   "execution_count": 42,
   "metadata": {},
   "outputs": [
    {
     "data": {
      "text/plain": [
       "'/mnt/hdd_6TB/40_Slat_assembly_v4/RepMask_newEDTA_merge_Oct_2023/analysis_v3'"
      ]
     },
     "execution_count": 42,
     "metadata": {},
     "output_type": "execute_result"
    }
   ],
   "source": [
    "os.getcwd()"
   ]
  },
  {
   "cell_type": "code",
   "execution_count": 43,
   "metadata": {},
   "outputs": [],
   "source": [
    "from collections import namedtuple\n",
    "\n",
    "# define namedtuple for each track line\n",
    "GffLine = namedtuple('GffLine', ['seqid', 'source', 'type', 'start', 'end', 'score', 'strand', 'phase', 'attributes'])\n",
    "\n",
    "def attributes2dict(attributes):\n",
    "    \"\"\"transform attributes to dictionary\"\"\"\n",
    "    return {rec.split(\"=\")[0]:rec.split(\"=\")[1] for rec in attributes.split(\";\")}"
   ]
  },
  {
   "cell_type": "code",
   "execution_count": 44,
   "metadata": {
    "scrolled": true
   },
   "outputs": [
    {
     "name": "stdout",
     "output_type": "stream",
     "text": [
      "/mnt/hdd_6TB/40_Slat_assembly_v4/RepMask_newEDTA_merge_Oct_2023/analysis_v3\r\n"
     ]
    }
   ],
   "source": [
    "! pwd"
   ]
  },
  {
   "cell_type": "code",
   "execution_count": 45,
   "metadata": {},
   "outputs": [
    {
     "data": {
      "text/plain": [
       "{'Class_I|LTR|Ty1/copia': {'chr1': [200709468, 200602813, 0],\n",
       "  'chr10': [165488795, 165474827, 0],\n",
       "  'chr11': [209616475, 209211419, 0],\n",
       "  'chr2': [199635652, 199336714, 0],\n",
       "  'chr3': [153359320, 152962667, 0],\n",
       "  'chr4': [112764170, 112739747, 0],\n",
       "  'chr5': [91147008, 87672558, 0],\n",
       "  'chr6': [141279031, 138463458, 0],\n",
       "  'chr7': [128518071, 127163725, 0],\n",
       "  'chr8': [113857337, 110818139, 0],\n",
       "  'chr9': [226323612, 225456203, 0],\n",
       "  'chrX': [346484273, 323749825, 0],\n",
       "  'chrY': [497814031, 494938722, 0]},\n",
       " 'Class_I|LTR|Ty1/copia|Ale': {'chr1': [200709468, 200602813, 0],\n",
       "  'chr10': [165488795, 165474827, 0],\n",
       "  'chr11': [209616475, 209211419, 0],\n",
       "  'chr2': [199635652, 199336714, 0],\n",
       "  'chr3': [153359320, 152962667, 0],\n",
       "  'chr4': [112764170, 112739747, 0],\n",
       "  'chr5': [91147008, 87672558, 0],\n",
       "  'chr6': [141279031, 138463458, 0],\n",
       "  'chr7': [128518071, 127163725, 0],\n",
       "  'chr8': [113857337, 110818139, 0],\n",
       "  'chr9': [226323612, 225456203, 0],\n",
       "  'chrX': [346484273, 323749825, 0],\n",
       "  'chrY': [497814031, 494938722, 0]},\n",
       " 'Class_I|LTR|Ty1/copia|Alesia': {'chr1': [200709468, 200602813, 0],\n",
       "  'chr10': [165488795, 165474827, 0],\n",
       "  'chr11': [209616475, 209211419, 0],\n",
       "  'chr2': [199635652, 199336714, 0],\n",
       "  'chr3': [153359320, 152962667, 0],\n",
       "  'chr4': [112764170, 112739747, 0],\n",
       "  'chr5': [91147008, 87672558, 0],\n",
       "  'chr6': [141279031, 138463458, 0],\n",
       "  'chr7': [128518071, 127163725, 0],\n",
       "  'chr8': [113857337, 110818139, 0],\n",
       "  'chr9': [226323612, 225456203, 0],\n",
       "  'chrX': [346484273, 323749825, 0],\n",
       "  'chrY': [497814031, 494938722, 0]},\n",
       " 'Class_I|LTR|Ty1/copia|Angela': {'chr1': [200709468, 200602813, 0],\n",
       "  'chr10': [165488795, 165474827, 0],\n",
       "  'chr11': [209616475, 209211419, 0],\n",
       "  'chr2': [199635652, 199336714, 0],\n",
       "  'chr3': [153359320, 152962667, 0],\n",
       "  'chr4': [112764170, 112739747, 0],\n",
       "  'chr5': [91147008, 87672558, 0],\n",
       "  'chr6': [141279031, 138463458, 0],\n",
       "  'chr7': [128518071, 127163725, 0],\n",
       "  'chr8': [113857337, 110818139, 0],\n",
       "  'chr9': [226323612, 225456203, 0],\n",
       "  'chrX': [346484273, 323749825, 0],\n",
       "  'chrY': [497814031, 494938722, 0]},\n",
       " 'Class_I|LTR|Ty1/copia|Bianca': {'chr1': [200709468, 200602813, 0],\n",
       "  'chr10': [165488795, 165474827, 0],\n",
       "  'chr11': [209616475, 209211419, 0],\n",
       "  'chr2': [199635652, 199336714, 0],\n",
       "  'chr3': [153359320, 152962667, 0],\n",
       "  'chr4': [112764170, 112739747, 0],\n",
       "  'chr5': [91147008, 87672558, 0],\n",
       "  'chr6': [141279031, 138463458, 0],\n",
       "  'chr7': [128518071, 127163725, 0],\n",
       "  'chr8': [113857337, 110818139, 0],\n",
       "  'chr9': [226323612, 225456203, 0],\n",
       "  'chrX': [346484273, 323749825, 0],\n",
       "  'chrY': [497814031, 494938722, 0]},\n",
       " 'Class_I|LTR|Ty1/copia|Ikeros': {'chr1': [200709468, 200602813, 0],\n",
       "  'chr10': [165488795, 165474827, 0],\n",
       "  'chr11': [209616475, 209211419, 0],\n",
       "  'chr2': [199635652, 199336714, 0],\n",
       "  'chr3': [153359320, 152962667, 0],\n",
       "  'chr4': [112764170, 112739747, 0],\n",
       "  'chr5': [91147008, 87672558, 0],\n",
       "  'chr6': [141279031, 138463458, 0],\n",
       "  'chr7': [128518071, 127163725, 0],\n",
       "  'chr8': [113857337, 110818139, 0],\n",
       "  'chr9': [226323612, 225456203, 0],\n",
       "  'chrX': [346484273, 323749825, 0],\n",
       "  'chrY': [497814031, 494938722, 0]},\n",
       " 'Class_I|LTR|Ty1/copia|Ivana': {'chr1': [200709468, 200602813, 0],\n",
       "  'chr10': [165488795, 165474827, 0],\n",
       "  'chr11': [209616475, 209211419, 0],\n",
       "  'chr2': [199635652, 199336714, 0],\n",
       "  'chr3': [153359320, 152962667, 0],\n",
       "  'chr4': [112764170, 112739747, 0],\n",
       "  'chr5': [91147008, 87672558, 0],\n",
       "  'chr6': [141279031, 138463458, 0],\n",
       "  'chr7': [128518071, 127163725, 0],\n",
       "  'chr8': [113857337, 110818139, 0],\n",
       "  'chr9': [226323612, 225456203, 0],\n",
       "  'chrX': [346484273, 323749825, 0],\n",
       "  'chrY': [497814031, 494938722, 0]},\n",
       " 'Class_I|LTR|Ty1/copia|SIRE': {'chr1': [200709468, 200602813, 0],\n",
       "  'chr10': [165488795, 165474827, 0],\n",
       "  'chr11': [209616475, 209211419, 0],\n",
       "  'chr2': [199635652, 199336714, 0],\n",
       "  'chr3': [153359320, 152962667, 0],\n",
       "  'chr4': [112764170, 112739747, 0],\n",
       "  'chr5': [91147008, 87672558, 0],\n",
       "  'chr6': [141279031, 138463458, 0],\n",
       "  'chr7': [128518071, 127163725, 0],\n",
       "  'chr8': [113857337, 110818139, 0],\n",
       "  'chr9': [226323612, 225456203, 0],\n",
       "  'chrX': [346484273, 323749825, 0],\n",
       "  'chrY': [497814031, 494938722, 0]},\n",
       " 'Class_I|LTR|Ty1/copia|TAR': {'chr1': [200709468, 200602813, 0],\n",
       "  'chr10': [165488795, 165474827, 0],\n",
       "  'chr11': [209616475, 209211419, 0],\n",
       "  'chr2': [199635652, 199336714, 0],\n",
       "  'chr3': [153359320, 152962667, 0],\n",
       "  'chr4': [112764170, 112739747, 0],\n",
       "  'chr5': [91147008, 87672558, 0],\n",
       "  'chr6': [141279031, 138463458, 0],\n",
       "  'chr7': [128518071, 127163725, 0],\n",
       "  'chr8': [113857337, 110818139, 0],\n",
       "  'chr9': [226323612, 225456203, 0],\n",
       "  'chrX': [346484273, 323749825, 0],\n",
       "  'chrY': [497814031, 494938722, 0]},\n",
       " 'Class_I|LTR|Ty1/copia|Tork': {'chr1': [200709468, 200602813, 0],\n",
       "  'chr10': [165488795, 165474827, 0],\n",
       "  'chr11': [209616475, 209211419, 0],\n",
       "  'chr2': [199635652, 199336714, 0],\n",
       "  'chr3': [153359320, 152962667, 0],\n",
       "  'chr4': [112764170, 112739747, 0],\n",
       "  'chr5': [91147008, 87672558, 0],\n",
       "  'chr6': [141279031, 138463458, 0],\n",
       "  'chr7': [128518071, 127163725, 0],\n",
       "  'chr8': [113857337, 110818139, 0],\n",
       "  'chr9': [226323612, 225456203, 0],\n",
       "  'chrX': [346484273, 323749825, 0],\n",
       "  'chrY': [497814031, 494938722, 0]},\n",
       " 'Class_I|LTR|Ty3/gypsy': {'chr1': [200709468, 200602813, 0],\n",
       "  'chr10': [165488795, 165474827, 0],\n",
       "  'chr11': [209616475, 209211419, 0],\n",
       "  'chr2': [199635652, 199336714, 0],\n",
       "  'chr3': [153359320, 152962667, 0],\n",
       "  'chr4': [112764170, 112739747, 0],\n",
       "  'chr5': [91147008, 87672558, 0],\n",
       "  'chr6': [141279031, 138463458, 0],\n",
       "  'chr7': [128518071, 127163725, 0],\n",
       "  'chr8': [113857337, 110818139, 0],\n",
       "  'chr9': [226323612, 225456203, 0],\n",
       "  'chrX': [346484273, 323749825, 0],\n",
       "  'chrY': [497814031, 494938722, 0]},\n",
       " 'Class_I|LTR|Ty3/gypsy|chromovirus': {'chr1': [200709468, 200602813, 0],\n",
       "  'chr10': [165488795, 165474827, 0],\n",
       "  'chr11': [209616475, 209211419, 0],\n",
       "  'chr2': [199635652, 199336714, 0],\n",
       "  'chr3': [153359320, 152962667, 0],\n",
       "  'chr4': [112764170, 112739747, 0],\n",
       "  'chr5': [91147008, 87672558, 0],\n",
       "  'chr6': [141279031, 138463458, 0],\n",
       "  'chr7': [128518071, 127163725, 0],\n",
       "  'chr8': [113857337, 110818139, 0],\n",
       "  'chr9': [226323612, 225456203, 0],\n",
       "  'chrX': [346484273, 323749825, 0],\n",
       "  'chrY': [497814031, 494938722, 0]},\n",
       " 'Class_I|LTR|Ty3/gypsy|chromovirus|CRM': {'chr1': [200709468, 200602813, 0],\n",
       "  'chr10': [165488795, 165474827, 0],\n",
       "  'chr11': [209616475, 209211419, 0],\n",
       "  'chr2': [199635652, 199336714, 0],\n",
       "  'chr3': [153359320, 152962667, 0],\n",
       "  'chr4': [112764170, 112739747, 0],\n",
       "  'chr5': [91147008, 87672558, 0],\n",
       "  'chr6': [141279031, 138463458, 0],\n",
       "  'chr7': [128518071, 127163725, 0],\n",
       "  'chr8': [113857337, 110818139, 0],\n",
       "  'chr9': [226323612, 225456203, 0],\n",
       "  'chrX': [346484273, 323749825, 0],\n",
       "  'chrY': [497814031, 494938722, 0]},\n",
       " 'Class_I|LTR|Ty3/gypsy|chromovirus|Galadriel': {'chr1': [200709468,\n",
       "   200602813,\n",
       "   0],\n",
       "  'chr10': [165488795, 165474827, 0],\n",
       "  'chr11': [209616475, 209211419, 0],\n",
       "  'chr2': [199635652, 199336714, 0],\n",
       "  'chr3': [153359320, 152962667, 0],\n",
       "  'chr4': [112764170, 112739747, 0],\n",
       "  'chr5': [91147008, 87672558, 0],\n",
       "  'chr6': [141279031, 138463458, 0],\n",
       "  'chr7': [128518071, 127163725, 0],\n",
       "  'chr8': [113857337, 110818139, 0],\n",
       "  'chr9': [226323612, 225456203, 0],\n",
       "  'chrX': [346484273, 323749825, 0],\n",
       "  'chrY': [497814031, 494938722, 0]},\n",
       " 'Class_I|LTR|Ty3/gypsy|chromovirus|Reina': {'chr1': [200709468, 200602813, 0],\n",
       "  'chr10': [165488795, 165474827, 0],\n",
       "  'chr11': [209616475, 209211419, 0],\n",
       "  'chr2': [199635652, 199336714, 0],\n",
       "  'chr3': [153359320, 152962667, 0],\n",
       "  'chr4': [112764170, 112739747, 0],\n",
       "  'chr5': [91147008, 87672558, 0],\n",
       "  'chr6': [141279031, 138463458, 0],\n",
       "  'chr7': [128518071, 127163725, 0],\n",
       "  'chr8': [113857337, 110818139, 0],\n",
       "  'chr9': [226323612, 225456203, 0],\n",
       "  'chrX': [346484273, 323749825, 0],\n",
       "  'chrY': [497814031, 494938722, 0]},\n",
       " 'Class_I|LTR|Ty3/gypsy|chromovirus|Tekay': {'chr1': [200709468, 200602813, 0],\n",
       "  'chr10': [165488795, 165474827, 0],\n",
       "  'chr11': [209616475, 209211419, 0],\n",
       "  'chr2': [199635652, 199336714, 0],\n",
       "  'chr3': [153359320, 152962667, 0],\n",
       "  'chr4': [112764170, 112739747, 0],\n",
       "  'chr5': [91147008, 87672558, 0],\n",
       "  'chr6': [141279031, 138463458, 0],\n",
       "  'chr7': [128518071, 127163725, 0],\n",
       "  'chr8': [113857337, 110818139, 0],\n",
       "  'chr9': [226323612, 225456203, 0],\n",
       "  'chrX': [346484273, 323749825, 0],\n",
       "  'chrY': [497814031, 494938722, 0]},\n",
       " 'Class_I|LTR|Ty3/gypsy|non-chromovirus|OTA|Athila': {'chr1': [200709468,\n",
       "   200602813,\n",
       "   0],\n",
       "  'chr10': [165488795, 165474827, 0],\n",
       "  'chr11': [209616475, 209211419, 0],\n",
       "  'chr2': [199635652, 199336714, 0],\n",
       "  'chr3': [153359320, 152962667, 0],\n",
       "  'chr4': [112764170, 112739747, 0],\n",
       "  'chr5': [91147008, 87672558, 0],\n",
       "  'chr6': [141279031, 138463458, 0],\n",
       "  'chr7': [128518071, 127163725, 0],\n",
       "  'chr8': [113857337, 110818139, 0],\n",
       "  'chr9': [226323612, 225456203, 0],\n",
       "  'chrX': [346484273, 323749825, 0],\n",
       "  'chrY': [497814031, 494938722, 0]},\n",
       " 'Class_I|LTR|Ty3/gypsy|non-chromovirus|OTA|Tat': {'chr1': [200709468,\n",
       "   200602813,\n",
       "   0],\n",
       "  'chr10': [165488795, 165474827, 0],\n",
       "  'chr11': [209616475, 209211419, 0],\n",
       "  'chr2': [199635652, 199336714, 0],\n",
       "  'chr3': [153359320, 152962667, 0],\n",
       "  'chr4': [112764170, 112739747, 0],\n",
       "  'chr5': [91147008, 87672558, 0],\n",
       "  'chr6': [141279031, 138463458, 0],\n",
       "  'chr7': [128518071, 127163725, 0],\n",
       "  'chr8': [113857337, 110818139, 0],\n",
       "  'chr9': [226323612, 225456203, 0],\n",
       "  'chrX': [346484273, 323749825, 0],\n",
       "  'chrY': [497814031, 494938722, 0]},\n",
       " 'Class_I|LTR|Ty3/gypsy|non-chromovirus|OTA|Tat|Ogre': {'chr1': [200709468,\n",
       "   200602813,\n",
       "   0],\n",
       "  'chr10': [165488795, 165474827, 0],\n",
       "  'chr11': [209616475, 209211419, 0],\n",
       "  'chr2': [199635652, 199336714, 0],\n",
       "  'chr3': [153359320, 152962667, 0],\n",
       "  'chr4': [112764170, 112739747, 0],\n",
       "  'chr5': [91147008, 87672558, 0],\n",
       "  'chr6': [141279031, 138463458, 0],\n",
       "  'chr7': [128518071, 127163725, 0],\n",
       "  'chr8': [113857337, 110818139, 0],\n",
       "  'chr9': [226323612, 225456203, 0],\n",
       "  'chrX': [346484273, 323749825, 0],\n",
       "  'chrY': [497814031, 494938722, 0]},\n",
       " 'Class_I|LTR|Ty3/gypsy|non-chromovirus|OTA|Tat|Retand': {'chr1': [200709468,\n",
       "   200602813,\n",
       "   0],\n",
       "  'chr10': [165488795, 165474827, 0],\n",
       "  'chr11': [209616475, 209211419, 0],\n",
       "  'chr2': [199635652, 199336714, 0],\n",
       "  'chr3': [153359320, 152962667, 0],\n",
       "  'chr4': [112764170, 112739747, 0],\n",
       "  'chr5': [91147008, 87672558, 0],\n",
       "  'chr6': [141279031, 138463458, 0],\n",
       "  'chr7': [128518071, 127163725, 0],\n",
       "  'chr8': [113857337, 110818139, 0],\n",
       "  'chr9': [226323612, 225456203, 0],\n",
       "  'chrX': [346484273, 323749825, 0],\n",
       "  'chrY': [497814031, 494938722, 0]},\n",
       " 'Class_I|LTR|Ty3/gypsy|non-chromovirus|Phygy': {'chr1': [200709468,\n",
       "   200602813,\n",
       "   0],\n",
       "  'chr10': [165488795, 165474827, 0],\n",
       "  'chr11': [209616475, 209211419, 0],\n",
       "  'chr2': [199635652, 199336714, 0],\n",
       "  'chr3': [153359320, 152962667, 0],\n",
       "  'chr4': [112764170, 112739747, 0],\n",
       "  'chr5': [91147008, 87672558, 0],\n",
       "  'chr6': [141279031, 138463458, 0],\n",
       "  'chr7': [128518071, 127163725, 0],\n",
       "  'chr8': [113857337, 110818139, 0],\n",
       "  'chr9': [226323612, 225456203, 0],\n",
       "  'chrX': [346484273, 323749825, 0],\n",
       "  'chrY': [497814031, 494938722, 0]}}"
      ]
     },
     "execution_count": 45,
     "metadata": {},
     "output_type": "execute_result"
    }
   ],
   "source": [
    "da_dict = {fam:{'chr1': [200709468, 200602813, 0],\n",
    " 'chr10': [165488795, 165474827, 0],\n",
    " 'chr11': [209616475, 209211419, 0],\n",
    " 'chr2': [199635652, 199336714, 0],\n",
    " 'chr3': [153359320, 152962667, 0],\n",
    " 'chr4': [112764170, 112739747, 0],\n",
    " 'chr5': [91147008, 87672558, 0],\n",
    " 'chr6': [141279031, 138463458, 0],\n",
    " 'chr7': [128518071, 127163725, 0],\n",
    " 'chr8': [113857337, 110818139, 0],\n",
    " 'chr9': [226323612, 225456203, 0],\n",
    " 'chrX': [346484273, 323749825, 0],\n",
    " 'chrY': [497814031, 494938722, 0]} for fam in ltr_fams}\n",
    "da_dict"
   ]
  },
  {
   "cell_type": "code",
   "execution_count": 46,
   "metadata": {},
   "outputs": [],
   "source": [
    "import glob\n",
    "\n",
    "for gff in glob.glob(\"LTR_subsets/*_subset.gff\"):\n",
    "    ann = gff.split(\"/\")[1].split(\"_\")[0]\n",
    "    with open(gff) as gf:\n",
    "        for l in gf:\n",
    "            if 'Dante_annotation' in l:\n",
    "                ll = l.rstrip().split(\"\\t\")\n",
    "                ll[-1] = attributes2dict(ll[-1])\n",
    "                gfl = GffLine(*ll)\n",
    "                if gfl.attributes['Dante_annotation'] in [k for k in ltr_fams] and 'retrotransposon' in gfl.type:\n",
    "                    rep_area = (int(gfl.end)-int(gfl.start))+1\n",
    "                    da_dict[gfl.attributes['Dante_annotation']][gfl.seqid][2] += rep_area"
   ]
  },
  {
   "cell_type": "code",
   "execution_count": 47,
   "metadata": {},
   "outputs": [
    {
     "name": "stdout",
     "output_type": "stream",
     "text": [
      "chr1\tcopia_Ale\t0\t200709468\t0.0\t200602813\t0.0\n",
      "chr10\tcopia_Ale\t0\t165488795\t0.0\t165474827\t0.0\n",
      "chr11\tcopia_Ale\t0\t209616475\t0.0\t209211419\t0.0\n",
      "chr2\tcopia_Ale\t0\t199635652\t0.0\t199336714\t0.0\n",
      "chr3\tcopia_Ale\t0\t153359320\t0.0\t152962667\t0.0\n",
      "chr4\tcopia_Ale\t0\t112764170\t0.0\t112739747\t0.0\n",
      "chr5\tcopia_Ale\t0\t91147008\t0.0\t87672558\t0.0\n",
      "chr6\tcopia_Ale\t0\t141279031\t0.0\t138463458\t0.0\n",
      "chr7\tcopia_Ale\t0\t128518071\t0.0\t127163725\t0.0\n",
      "chr8\tcopia_Ale\t0\t113857337\t0.0\t110818139\t0.0\n",
      "chr9\tcopia_Ale\t0\t226323612\t0.0\t225456203\t0.0\n",
      "chrX\tcopia_Ale\t0\t346484273\t0.0\t323749825\t0.0\n",
      "chrY\tcopia_Ale\t0\t497814031\t0.0\t494938722\t0.0\n",
      "chr1\tcopia_Angela\t0\t200709468\t0.0\t200602813\t0.0\n",
      "chr10\tcopia_Angela\t0\t165488795\t0.0\t165474827\t0.0\n",
      "chr11\tcopia_Angela\t0\t209616475\t0.0\t209211419\t0.0\n",
      "chr2\tcopia_Angela\t0\t199635652\t0.0\t199336714\t0.0\n",
      "chr3\tcopia_Angela\t0\t153359320\t0.0\t152962667\t0.0\n",
      "chr4\tcopia_Angela\t0\t112764170\t0.0\t112739747\t0.0\n",
      "chr5\tcopia_Angela\t0\t91147008\t0.0\t87672558\t0.0\n",
      "chr6\tcopia_Angela\t0\t141279031\t0.0\t138463458\t0.0\n",
      "chr7\tcopia_Angela\t0\t128518071\t0.0\t127163725\t0.0\n",
      "chr8\tcopia_Angela\t0\t113857337\t0.0\t110818139\t0.0\n",
      "chr9\tcopia_Angela\t0\t226323612\t0.0\t225456203\t0.0\n",
      "chrX\tcopia_Angela\t0\t346484273\t0.0\t323749825\t0.0\n",
      "chrY\tcopia_Angela\t0\t497814031\t0.0\t494938722\t0.0\n",
      "chr1\tcopia_SIRE\t0\t200709468\t0.0\t200602813\t0.0\n",
      "chr10\tcopia_SIRE\t0\t165488795\t0.0\t165474827\t0.0\n",
      "chr11\tcopia_SIRE\t0\t209616475\t0.0\t209211419\t0.0\n",
      "chr2\tcopia_SIRE\t0\t199635652\t0.0\t199336714\t0.0\n",
      "chr3\tcopia_SIRE\t0\t153359320\t0.0\t152962667\t0.0\n",
      "chr4\tcopia_SIRE\t0\t112764170\t0.0\t112739747\t0.0\n",
      "chr5\tcopia_SIRE\t0\t91147008\t0.0\t87672558\t0.0\n",
      "chr6\tcopia_SIRE\t0\t141279031\t0.0\t138463458\t0.0\n",
      "chr7\tcopia_SIRE\t0\t128518071\t0.0\t127163725\t0.0\n",
      "chr8\tcopia_SIRE\t0\t113857337\t0.0\t110818139\t0.0\n",
      "chr9\tcopia_SIRE\t0\t226323612\t0.0\t225456203\t0.0\n",
      "chrX\tcopia_SIRE\t0\t346484273\t0.0\t323749825\t0.0\n",
      "chrY\tcopia_SIRE\t0\t497814031\t0.0\t494938722\t0.0\n",
      "chr1\tgypsy_CRM\t0\t200709468\t0.0\t200602813\t0.0\n",
      "chr10\tgypsy_CRM\t0\t165488795\t0.0\t165474827\t0.0\n",
      "chr11\tgypsy_CRM\t0\t209616475\t0.0\t209211419\t0.0\n",
      "chr2\tgypsy_CRM\t0\t199635652\t0.0\t199336714\t0.0\n",
      "chr3\tgypsy_CRM\t0\t153359320\t0.0\t152962667\t0.0\n",
      "chr4\tgypsy_CRM\t0\t112764170\t0.0\t112739747\t0.0\n",
      "chr5\tgypsy_CRM\t0\t91147008\t0.0\t87672558\t0.0\n",
      "chr6\tgypsy_CRM\t0\t141279031\t0.0\t138463458\t0.0\n",
      "chr7\tgypsy_CRM\t0\t128518071\t0.0\t127163725\t0.0\n",
      "chr8\tgypsy_CRM\t0\t113857337\t0.0\t110818139\t0.0\n",
      "chr9\tgypsy_CRM\t0\t226323612\t0.0\t225456203\t0.0\n",
      "chrX\tgypsy_CRM\t0\t346484273\t0.0\t323749825\t0.0\n",
      "chrY\tgypsy_CRM\t0\t497814031\t0.0\t494938722\t0.0\n",
      "chr1\tgypsy_Tekay\t0\t200709468\t0.0\t200602813\t0.0\n",
      "chr10\tgypsy_Tekay\t0\t165488795\t0.0\t165474827\t0.0\n",
      "chr11\tgypsy_Tekay\t0\t209616475\t0.0\t209211419\t0.0\n",
      "chr2\tgypsy_Tekay\t0\t199635652\t0.0\t199336714\t0.0\n",
      "chr3\tgypsy_Tekay\t0\t153359320\t0.0\t152962667\t0.0\n",
      "chr4\tgypsy_Tekay\t0\t112764170\t0.0\t112739747\t0.0\n",
      "chr5\tgypsy_Tekay\t0\t91147008\t0.0\t87672558\t0.0\n",
      "chr6\tgypsy_Tekay\t0\t141279031\t0.0\t138463458\t0.0\n",
      "chr7\tgypsy_Tekay\t0\t128518071\t0.0\t127163725\t0.0\n",
      "chr8\tgypsy_Tekay\t0\t113857337\t0.0\t110818139\t0.0\n",
      "chr9\tgypsy_Tekay\t0\t226323612\t0.0\t225456203\t0.0\n",
      "chrX\tgypsy_Tekay\t0\t346484273\t0.0\t323749825\t0.0\n",
      "chrY\tgypsy_Tekay\t0\t497814031\t0.0\t494938722\t0.0\n",
      "chr1\tgypsy_Athila\t0\t200709468\t0.0\t200602813\t0.0\n",
      "chr10\tgypsy_Athila\t0\t165488795\t0.0\t165474827\t0.0\n",
      "chr11\tgypsy_Athila\t0\t209616475\t0.0\t209211419\t0.0\n",
      "chr2\tgypsy_Athila\t0\t199635652\t0.0\t199336714\t0.0\n",
      "chr3\tgypsy_Athila\t0\t153359320\t0.0\t152962667\t0.0\n",
      "chr4\tgypsy_Athila\t0\t112764170\t0.0\t112739747\t0.0\n",
      "chr5\tgypsy_Athila\t0\t91147008\t0.0\t87672558\t0.0\n",
      "chr6\tgypsy_Athila\t0\t141279031\t0.0\t138463458\t0.0\n",
      "chr7\tgypsy_Athila\t0\t128518071\t0.0\t127163725\t0.0\n",
      "chr8\tgypsy_Athila\t0\t113857337\t0.0\t110818139\t0.0\n",
      "chr9\tgypsy_Athila\t0\t226323612\t0.0\t225456203\t0.0\n",
      "chrX\tgypsy_Athila\t0\t346484273\t0.0\t323749825\t0.0\n",
      "chrY\tgypsy_Athila\t0\t497814031\t0.0\t494938722\t0.0\n",
      "chr1\tgypsy_Tat\t0\t200709468\t0.0\t200602813\t0.0\n",
      "chr10\tgypsy_Tat\t0\t165488795\t0.0\t165474827\t0.0\n",
      "chr11\tgypsy_Tat\t0\t209616475\t0.0\t209211419\t0.0\n",
      "chr2\tgypsy_Tat\t0\t199635652\t0.0\t199336714\t0.0\n",
      "chr3\tgypsy_Tat\t0\t153359320\t0.0\t152962667\t0.0\n",
      "chr4\tgypsy_Tat\t0\t112764170\t0.0\t112739747\t0.0\n",
      "chr5\tgypsy_Tat\t0\t91147008\t0.0\t87672558\t0.0\n",
      "chr6\tgypsy_Tat\t0\t141279031\t0.0\t138463458\t0.0\n",
      "chr7\tgypsy_Tat\t0\t128518071\t0.0\t127163725\t0.0\n",
      "chr8\tgypsy_Tat\t0\t113857337\t0.0\t110818139\t0.0\n",
      "chr9\tgypsy_Tat\t0\t226323612\t0.0\t225456203\t0.0\n",
      "chrX\tgypsy_Tat\t0\t346484273\t0.0\t323749825\t0.0\n",
      "chrY\tgypsy_Tat\t0\t497814031\t0.0\t494938722\t0.0\n",
      "chr1\tgypsy_Ogre\t0\t200709468\t0.0\t200602813\t0.0\n",
      "chr10\tgypsy_Ogre\t0\t165488795\t0.0\t165474827\t0.0\n",
      "chr11\tgypsy_Ogre\t0\t209616475\t0.0\t209211419\t0.0\n",
      "chr2\tgypsy_Ogre\t0\t199635652\t0.0\t199336714\t0.0\n",
      "chr3\tgypsy_Ogre\t0\t153359320\t0.0\t152962667\t0.0\n",
      "chr4\tgypsy_Ogre\t0\t112764170\t0.0\t112739747\t0.0\n",
      "chr5\tgypsy_Ogre\t0\t91147008\t0.0\t87672558\t0.0\n",
      "chr6\tgypsy_Ogre\t0\t141279031\t0.0\t138463458\t0.0\n",
      "chr7\tgypsy_Ogre\t0\t128518071\t0.0\t127163725\t0.0\n",
      "chr8\tgypsy_Ogre\t0\t113857337\t0.0\t110818139\t0.0\n",
      "chr9\tgypsy_Ogre\t0\t226323612\t0.0\t225456203\t0.0\n",
      "chrX\tgypsy_Ogre\t0\t346484273\t0.0\t323749825\t0.0\n",
      "chrY\tgypsy_Ogre\t0\t497814031\t0.0\t494938722\t0.0\n",
      "chr1\tgypsy_Retand\t0\t200709468\t0.0\t200602813\t0.0\n",
      "chr10\tgypsy_Retand\t0\t165488795\t0.0\t165474827\t0.0\n",
      "chr11\tgypsy_Retand\t0\t209616475\t0.0\t209211419\t0.0\n",
      "chr2\tgypsy_Retand\t0\t199635652\t0.0\t199336714\t0.0\n",
      "chr3\tgypsy_Retand\t0\t153359320\t0.0\t152962667\t0.0\n",
      "chr4\tgypsy_Retand\t0\t112764170\t0.0\t112739747\t0.0\n",
      "chr5\tgypsy_Retand\t0\t91147008\t0.0\t87672558\t0.0\n",
      "chr6\tgypsy_Retand\t0\t141279031\t0.0\t138463458\t0.0\n",
      "chr7\tgypsy_Retand\t0\t128518071\t0.0\t127163725\t0.0\n",
      "chr8\tgypsy_Retand\t0\t113857337\t0.0\t110818139\t0.0\n",
      "chr9\tgypsy_Retand\t0\t226323612\t0.0\t225456203\t0.0\n",
      "chrX\tgypsy_Retand\t0\t346484273\t0.0\t323749825\t0.0\n",
      "chrY\tgypsy_Retand\t0\t497814031\t0.0\t494938722\t0.0\n"
     ]
    }
   ],
   "source": [
    "# Filtered for the most abundant families: 'Ale','Angela','Athila','CRM','Ogre','Retand','SIRE','Tat' and 'Tekay' \n",
    "\n",
    "for fam in da_dict:\n",
    "    for ch in da_dict[fam]:\n",
    "        fm = fam.split(\"|\")[2].split(\"/\")[1] + \"_\" + fam.split(\"|\")[-1]\n",
    "        if fm.split(\"_\")[1] in ['Ale','Angela','Athila','CRM','Ogre','Retand','SIRE','Tat','Tekay']:\n",
    "            proc1 = (da_dict[fam][ch][2]/da_dict[fam][ch][0])*100\n",
    "            proc2 = (da_dict[fam][ch][2]/da_dict[fam][ch][1])*100\n",
    "            print(f\"{ch}\\t{fm}\\t{da_dict[fam][ch][2]}\\t{da_dict[fam][ch][0]}\\t{proc1}\\t{da_dict[fam][ch][1]}\\t{proc2}\")"
   ]
  },
  {
   "cell_type": "code",
   "execution_count": 51,
   "metadata": {},
   "outputs": [
    {
     "name": "stdout",
     "output_type": "stream",
     "text": [
      "{'A': [1742698939, 1729902270], 'X': [346484273, 323749825], 'Y': [497814031, 494938722]}\n"
     ]
    }
   ],
   "source": [
    "seqLen_d = {'chr1': [200709468, 200602813, 0],\n",
    " 'chr10': [165488795, 165474827, 0],\n",
    " 'chr11': [209616475, 209211419, 0],\n",
    " 'chr2': [199635652, 199336714, 0],\n",
    " 'chr3': [153359320, 152962667, 0],\n",
    " 'chr4': [112764170, 112739747, 0],\n",
    " 'chr5': [91147008, 87672558, 0],\n",
    " 'chr6': [141279031, 138463458, 0],\n",
    " 'chr7': [128518071, 127163725, 0],\n",
    " 'chr8': [113857337, 110818139, 0],\n",
    " 'chr9': [226323612, 225456203, 0],\n",
    " 'chrX': [346484273, 323749825, 0],\n",
    " 'chrY': [497814031, 494938722, 0]}\n",
    "\n",
    "def get_chStat(ch):\n",
    "    if ch == 'chrX':\n",
    "        return 'X'\n",
    "    elif ch == 'chrY':\n",
    "        return 'Y'\n",
    "    else:\n",
    "        return 'A'\n",
    "    \n",
    "out_d = {'A':[0,0],'X':[0,0],'Y':[0,0]}\n",
    "for ch in seqLen_d:\n",
    "    chs = get_chStat(ch)\n",
    "    out_d[chs][0] += seqLen_d[ch][0]\n",
    "    out_d[chs][1] += seqLen_d[ch][1]\n",
    "print(out_d)"
   ]
  },
  {
   "cell_type": "code",
   "execution_count": 53,
   "metadata": {
    "scrolled": true
   },
   "outputs": [
    {
     "name": "stdout",
     "output_type": "stream",
     "text": [
      "LTR_subsets/Copia_subset.gff Copia\n",
      "LTR_subsets/Gypsy_subset.gff Gypsy\n",
      "LTR_subsets/Unknown_subset.gff Unknown\n",
      "{'Class_I|LTR|Ty1/copia': {'A': [3751925, 1742698939, 1729902270], 'X': [482392, 346484273, 323749825], 'Y': [1188790, 497814031, 494938722]}, 'Class_I|LTR|Ty1/copia|Ale': {'A': [19233809, 1742698939, 1729902270], 'X': [2838425, 346484273, 323749825], 'Y': [19650747, 497814031, 494938722]}, 'Class_I|LTR|Ty1/copia|Alesia': {'A': [42679, 1742698939, 1729902270], 'X': [3516, 346484273, 323749825], 'Y': [34447, 497814031, 494938722]}, 'Class_I|LTR|Ty1/copia|Angela': {'A': [179141682, 1742698939, 1729902270], 'X': [31024225, 346484273, 323749825], 'Y': [39432455, 497814031, 494938722]}, 'Class_I|LTR|Ty1/copia|Bianca': {'A': [555442, 1742698939, 1729902270], 'X': [228182, 346484273, 323749825], 'Y': [16921, 497814031, 494938722]}, 'Class_I|LTR|Ty1/copia|Ikeros': {'A': [3759171, 1742698939, 1729902270], 'X': [761386, 346484273, 323749825], 'Y': [1324439, 497814031, 494938722]}, 'Class_I|LTR|Ty1/copia|Ivana': {'A': [687468, 1742698939, 1729902270], 'X': [93918, 346484273, 323749825], 'Y': [1429971, 497814031, 494938722]}, 'Class_I|LTR|Ty1/copia|SIRE': {'A': [29577564, 1742698939, 1729902270], 'X': [4810289, 346484273, 323749825], 'Y': [4543506, 497814031, 494938722]}, 'Class_I|LTR|Ty1/copia|TAR': {'A': [3620953, 1742698939, 1729902270], 'X': [529893, 346484273, 323749825], 'Y': [1832543, 497814031, 494938722]}, 'Class_I|LTR|Ty1/copia|Tork': {'A': [2017264, 1742698939, 1729902270], 'X': [229813, 346484273, 323749825], 'Y': [1160566, 497814031, 494938722]}, 'Class_I|LTR|Ty3/gypsy': {'A': [0, 1742698939, 1729902270], 'X': [0, 346484273, 323749825], 'Y': [18283, 497814031, 494938722]}, 'Class_I|LTR|Ty3/gypsy|chromovirus': {'A': [4226549, 1742698939, 1729902270], 'X': [860241, 346484273, 323749825], 'Y': [2407216, 497814031, 494938722]}, 'Class_I|LTR|Ty3/gypsy|chromovirus|CRM': {'A': [11776099, 1742698939, 1729902270], 'X': [1010090, 346484273, 323749825], 'Y': [5145300, 497814031, 494938722]}, 'Class_I|LTR|Ty3/gypsy|chromovirus|Galadriel': {'A': [2754196, 1742698939, 1729902270], 'X': [347387, 346484273, 323749825], 'Y': [351705, 497814031, 494938722]}, 'Class_I|LTR|Ty3/gypsy|chromovirus|Reina': {'A': [669531, 1742698939, 1729902270], 'X': [109849, 346484273, 323749825], 'Y': [2325027, 497814031, 494938722]}, 'Class_I|LTR|Ty3/gypsy|chromovirus|Tekay': {'A': [60844501, 1742698939, 1729902270], 'X': [12510251, 346484273, 323749825], 'Y': [14500323, 497814031, 494938722]}, 'Class_I|LTR|Ty3/gypsy|non-chromovirus|OTA|Athila': {'A': [170492460, 1742698939, 1729902270], 'X': [28292739, 346484273, 323749825], 'Y': [32880758, 497814031, 494938722]}, 'Class_I|LTR|Ty3/gypsy|non-chromovirus|OTA|Tat': {'A': [12716010, 1742698939, 1729902270], 'X': [2652749, 346484273, 323749825], 'Y': [545292, 497814031, 494938722]}, 'Class_I|LTR|Ty3/gypsy|non-chromovirus|OTA|Tat|Ogre': {'A': [150846319, 1742698939, 1729902270], 'X': [30332500, 346484273, 323749825], 'Y': [29923895, 497814031, 494938722]}, 'Class_I|LTR|Ty3/gypsy|non-chromovirus|OTA|Tat|Retand': {'A': [76635695, 1742698939, 1729902270], 'X': [14446840, 346484273, 323749825], 'Y': [20410202, 497814031, 494938722]}, 'Class_I|LTR|Ty3/gypsy|non-chromovirus|Phygy': {'A': [15225, 1742698939, 1729902270], 'X': [31044, 346484273, 323749825], 'Y': [0, 497814031, 494938722]}}\n"
     ]
    }
   ],
   "source": [
    "import glob\n",
    "ltr_fam_dict = {k:{'A':[0,0,0],'X':[0,0,0],'Y':[0,0,0]} for k in ltr_fams}\n",
    "for gff in glob.glob(\"LTR_subsets/*_subset.gff\"):\n",
    "    \n",
    "    ann = gff.split(\"/\")[1].split(\"_\")[0]\n",
    "    print(gff,ann)\n",
    "    with open(gff) as gf:\n",
    "        for l in gf:\n",
    "            if 'dante_annotation' in l:\n",
    "                ll = l.rstrip().split(\"\\t\")\n",
    "                ll[-1] = attributes2dict(ll[-1])\n",
    "                gfl = GffLine(*ll)\n",
    "                if gfl.attributes['dante_annotation'] in [k for k in ltr_fam_dict] and 'retrotransposon' in gfl.type:\n",
    "                    chStat = get_chStat(gfl.seqid)\n",
    "                    rep_area = (int(gfl.end)-int(gfl.start))+1\n",
    "                    #print(chStat, ltr_fam_dict[gfl.attributes['Dante_annotation']])\n",
    "                    ltr_fam_dict[gfl.attributes['dante_annotation']][chStat][0] += rep_area\n",
    "                    \n",
    "for ann in ltr_fam_dict:\n",
    "    ltr_fam_dict[ann]['A'][1]=1742698939\n",
    "    ltr_fam_dict[ann]['A'][2]=1729902270\n",
    "    ltr_fam_dict[ann]['X'][1]=346484273\n",
    "    ltr_fam_dict[ann]['X'][2]=323749825\n",
    "    ltr_fam_dict[ann]['Y'][1]=497814031\n",
    "    ltr_fam_dict[ann]['Y'][2]=494938722\n",
    "print(ltr_fam_dict)\n"
   ]
  },
  {
   "cell_type": "code",
   "execution_count": 54,
   "metadata": {
    "scrolled": true
   },
   "outputs": [],
   "source": [
    "# 3. LTR families plots\n",
    "with open(\"Slat_LTR_families_proportion_v1.tab\",\"w\") as out:\n",
    "    for ann in ltr_fam_dict:\n",
    "        for chStat in ltr_fam_dict[ann]:\n",
    "            rep_area = ltr_fam_dict[ann][chStat][0]\n",
    "            chLen = ltr_fam_dict[ann][chStat][1]\n",
    "            noNs_chLen = ltr_fam_dict[ann][chStat][2]\n",
    "            perc = round((rep_area/chLen)*100,2)\n",
    "            noNs_perc = round((rep_area/noNs_chLen)*100,4)\n",
    "            annL = ann.split(\"/\")[1].split(\"|\")\n",
    "            if len(annL) > 1:\n",
    "                annF = annL[0]+\"_\"+annL[-1]\n",
    "                out.write(f\"{annF}\\t{chStat}\\t{rep_area}\\t{chLen}\\t{noNs_chLen}\\t{perc}\\t{noNs_perc}\\n\")"
   ]
  },
  {
   "cell_type": "markdown",
   "metadata": {},
   "source": [
    "## DNA TEs"
   ]
  },
  {
   "cell_type": "code",
   "execution_count": 56,
   "metadata": {},
   "outputs": [],
   "source": [
    "! rm -rf DNA_supfams/\n",
    "! mkdir DNA_supfams \n",
    "! grep 'DNA/DTA' DNA_TEs_subset.gff > DNA_supfams/DTA_subset.gff\n",
    "! grep 'DNA/DTC' DNA_TEs_subset.gff > DNA_supfams/DTC_subset.gff\n",
    "! grep 'DNA/DTH' DNA_TEs_subset.gff > DNA_supfams/DTH_subset.gff\n",
    "! grep 'DNA/DTM' DNA_TEs_subset.gff > DNA_supfams/DTM_subset.gff\n",
    "! grep 'DNA/DTT' DNA_TEs_subset.gff > DNA_supfams/DTT_subset.gff\n",
    "! grep 'DNA/Helitron' ../Slat_v4_repDNA_annot_Oct_2023.gff > DNA_supfams/Helitron_subset.gff"
   ]
  },
  {
   "cell_type": "code",
   "execution_count": 57,
   "metadata": {},
   "outputs": [
    {
     "name": "stdout",
     "output_type": "stream",
     "text": [
      "chr1\tCACTA\t3263529\t200709468\t1.63\t200602813\t1.63\n",
      "chr10\tCACTA\t2162567\t165488795\t1.31\t165474827\t1.31\n",
      "chr11\tCACTA\t3248156\t209616475\t1.55\t209211419\t1.55\n",
      "chr2\tCACTA\t2305630\t199635652\t1.15\t199336714\t1.16\n",
      "chr3\tCACTA\t1918569\t153359320\t1.25\t152962667\t1.25\n",
      "chr4\tCACTA\t883350\t112764170\t0.78\t112739747\t0.78\n",
      "chr5\tCACTA\t444448\t91147008\t0.49\t87672558\t0.51\n",
      "chr6\tCACTA\t1904582\t141279031\t1.35\t138463458\t1.38\n",
      "chr7\tCACTA\t1385987\t128518071\t1.08\t127163725\t1.09\n",
      "chr8\tCACTA\t1481675\t113857337\t1.3\t110818139\t1.34\n",
      "chr9\tCACTA\t3170831\t226323612\t1.4\t225456203\t1.41\n",
      "chrX\tCACTA\t5354296\t346484273\t1.55\t323749825\t1.65\n",
      "chrY\tCACTA\t14269790\t497814031\t2.87\t494938722\t2.88\n",
      "chr1\tMutator\t2989985\t200709468\t1.49\t200602813\t1.49\n",
      "chr10\tMutator\t4102021\t165488795\t2.48\t165474827\t2.48\n",
      "chr11\tMutator\t6796060\t209616475\t3.24\t209211419\t3.25\n",
      "chr2\tMutator\t2972496\t199635652\t1.49\t199336714\t1.49\n",
      "chr3\tMutator\t2899172\t153359320\t1.89\t152962667\t1.9\n",
      "chr4\tMutator\t1180460\t112764170\t1.05\t112739747\t1.05\n",
      "chr5\tMutator\t507552\t91147008\t0.56\t87672558\t0.58\n",
      "chr6\tMutator\t2198921\t141279031\t1.56\t138463458\t1.59\n",
      "chr7\tMutator\t2124631\t128518071\t1.65\t127163725\t1.67\n",
      "chr8\tMutator\t3318349\t113857337\t2.91\t110818139\t2.99\n",
      "chr9\tMutator\t2875791\t226323612\t1.27\t225456203\t1.28\n",
      "chrX\tMutator\t5692363\t346484273\t1.64\t323749825\t1.76\n",
      "chrY\tMutator\t5366173\t497814031\t1.08\t494938722\t1.08\n",
      "chr1\tPIF/Harbinger\t293246\t200709468\t0.15\t200602813\t0.15\n",
      "chr10\tPIF/Harbinger\t418916\t165488795\t0.25\t165474827\t0.25\n",
      "chr11\tPIF/Harbinger\t433812\t209616475\t0.21\t209211419\t0.21\n",
      "chr2\tPIF/Harbinger\t518933\t199635652\t0.26\t199336714\t0.26\n",
      "chr3\tPIF/Harbinger\t510513\t153359320\t0.33\t152962667\t0.33\n",
      "chr4\tPIF/Harbinger\t590364\t112764170\t0.52\t112739747\t0.52\n",
      "chr5\tPIF/Harbinger\t234665\t91147008\t0.26\t87672558\t0.27\n",
      "chr6\tPIF/Harbinger\t207410\t141279031\t0.15\t138463458\t0.15\n",
      "chr7\tPIF/Harbinger\t670406\t128518071\t0.52\t127163725\t0.53\n",
      "chr8\tPIF/Harbinger\t284295\t113857337\t0.25\t110818139\t0.26\n",
      "chr9\tPIF/Harbinger\t651515\t226323612\t0.29\t225456203\t0.29\n",
      "chrX\tPIF/Harbinger\t1530588\t346484273\t0.44\t323749825\t0.47\n",
      "chrY\tPIF/Harbinger\t1195049\t497814031\t0.24\t494938722\t0.24\n",
      "chr1\tTcl/Mariner\t1128109\t200709468\t0.56\t200602813\t0.56\n",
      "chr10\tTcl/Mariner\t1520380\t165488795\t0.92\t165474827\t0.92\n",
      "chr11\tTcl/Mariner\t1800174\t209616475\t0.86\t209211419\t0.86\n",
      "chr2\tTcl/Mariner\t1218452\t199635652\t0.61\t199336714\t0.61\n",
      "chr3\tTcl/Mariner\t962858\t153359320\t0.63\t152962667\t0.63\n",
      "chr4\tTcl/Mariner\t444526\t112764170\t0.39\t112739747\t0.39\n",
      "chr5\tTcl/Mariner\t181413\t91147008\t0.2\t87672558\t0.21\n",
      "chr6\tTcl/Mariner\t1408055\t141279031\t1.0\t138463458\t1.02\n",
      "chr7\tTcl/Mariner\t744989\t128518071\t0.58\t127163725\t0.59\n",
      "chr8\tTcl/Mariner\t829294\t113857337\t0.73\t110818139\t0.75\n",
      "chr9\tTcl/Mariner\t1253552\t226323612\t0.55\t225456203\t0.56\n",
      "chrX\tTcl/Mariner\t1723301\t346484273\t0.5\t323749825\t0.53\n",
      "chrY\tTcl/Mariner\t1903198\t497814031\t0.38\t494938722\t0.38\n",
      "chr1\tHelitron\t7073262\t200709468\t3.52\t200602813\t3.53\n",
      "chr10\tHelitron\t5809698\t165488795\t3.51\t165474827\t3.51\n",
      "chr11\tHelitron\t5376154\t209616475\t2.56\t209211419\t2.57\n",
      "chr2\tHelitron\t7150898\t199635652\t3.58\t199336714\t3.59\n",
      "chr3\tHelitron\t7355917\t153359320\t4.8\t152962667\t4.81\n",
      "chr4\tHelitron\t3434570\t112764170\t3.05\t112739747\t3.05\n",
      "chr5\tHelitron\t3414938\t91147008\t3.75\t87672558\t3.9\n",
      "chr6\tHelitron\t4565633\t141279031\t3.23\t138463458\t3.3\n",
      "chr7\tHelitron\t4445371\t128518071\t3.46\t127163725\t3.5\n",
      "chr8\tHelitron\t4695255\t113857337\t4.12\t110818139\t4.24\n",
      "chr9\tHelitron\t5469408\t226323612\t2.42\t225456203\t2.43\n",
      "chrX\tHelitron\t7043753\t346484273\t2.03\t323749825\t2.18\n",
      "chrY\tHelitron\t12034978\t497814031\t2.42\t494938722\t2.43\n",
      "chr1\thAT\t945739\t200709468\t0.47\t200602813\t0.47\n",
      "chr10\thAT\t822517\t165488795\t0.5\t165474827\t0.5\n",
      "chr11\thAT\t781990\t209616475\t0.37\t209211419\t0.37\n",
      "chr2\thAT\t895099\t199635652\t0.45\t199336714\t0.45\n",
      "chr3\thAT\t592939\t153359320\t0.39\t152962667\t0.39\n",
      "chr4\thAT\t381851\t112764170\t0.34\t112739747\t0.34\n",
      "chr5\thAT\t509206\t91147008\t0.56\t87672558\t0.58\n",
      "chr6\thAT\t702997\t141279031\t0.5\t138463458\t0.51\n",
      "chr7\thAT\t533485\t128518071\t0.42\t127163725\t0.42\n",
      "chr8\thAT\t606439\t113857337\t0.53\t110818139\t0.55\n",
      "chr9\thAT\t698731\t226323612\t0.31\t225456203\t0.31\n",
      "chrX\thAT\t1097702\t346484273\t0.32\t323749825\t0.34\n",
      "chrY\thAT\t1861431\t497814031\t0.37\t494938722\t0.38\n"
     ]
    }
   ],
   "source": [
    "# DNA autonomous TEs\n",
    "annot_dict = {\"DNA/DTA\":\"hAT\", \"DNA/DTC\":\"CACTA\", \"DNA/DTH\":\"PIF/Harbinger\", \n",
    "              \"DNA/DTM\":\"Mutator\", \"DNA/DTT\":\"Tcl/Mariner\",\n",
    "              \"DNA/Helitron\":\"Helitron\", \"LTR/Copia\":\"Ty1/Copia\", \"LTR/Gypsy\":\"Ty3/Gypsy\", \n",
    "              \"LTR/unknown\":\"Unknown\",\n",
    "              \"MITE/DTA\":\"hAT\", \"MITE/DTC\":\"CACTA\", \"MITE/DTH\":\"PIF/Harbinger\",\n",
    "              \"MITE/DTM\":\"Mutator\", \"MITE/DTT\":\"Tcl/Mariner\"}\n",
    "axy_dict = {}\n",
    "for gff in glob.glob(\"DNA_supfams/*.gff\"):\n",
    "    merged_bed = gff.split('.')[0]+\"_merged.bed\"\n",
    "    cmd = f\"bedtools merge -i {gff} > {merged_bed}\"\n",
    "    returned_value = os.system(cmd)  # returns the exit code in unix\n",
    "    #print(f'CMD:{cmd}\\nreturned value:{returned_value}')\n",
    "    ann = annot_dict[\"DNA/\"+gff.split(\"/\")[1].split(\"_\")[0]]\n",
    "    axy_dict[ann] = {'A':[0,0,0],'X':[0,0,0],'Y':[0,0,0]}\n",
    "    for ch in chrLen:\n",
    "        rep_area = get_repArea(merged_bed, ch)\n",
    "        chStat = get_chStat(ch)\n",
    "        axy_dict[ann][chStat][0] += rep_area\n",
    "        axy_dict[ann][chStat][1] += chrLen[ch]\n",
    "        axy_dict[ann][chStat][2] += noNs_chrLen[ch]\n",
    "        #print(ann,chStat,ch,axy_dict[ann][chStat])\n",
    "        #axy_dict[ann][chStat].append([rep_area,chrLen[ch],noNs_chrLen[ch]])\n",
    "        perc = round((rep_area/chrLen[ch])*100,2)\n",
    "        nns_perc = round((rep_area/noNs_chrLen[ch])*100,2)\n",
    "        print(f\"{ch}\\t{ann}\\t{rep_area}\\t{chrLen[ch]}\\t{perc}\\t{noNs_chrLen[ch]}\\t{nns_perc}\")    "
   ]
  },
  {
   "cell_type": "code",
   "execution_count": 58,
   "metadata": {
    "scrolled": true
   },
   "outputs": [],
   "source": [
    "# DNA TEs tab:\n",
    "with open(\"Slat_DNA_autonomous_proportion.tab\",\"w\") as out:\n",
    "    for ann in axy_dict:\n",
    "        for chStat in axy_dict[ann]:\n",
    "            rep_area = axy_dict[ann][chStat][0]\n",
    "            chLen = axy_dict[ann][chStat][1]\n",
    "            noNs_chLen = axy_dict[ann][chStat][2]\n",
    "            perc = round((rep_area/chLen)*100,2)\n",
    "            noNs_perc = round((rep_area/noNs_chLen)*100,2)\n",
    "            out.write(f\"{ann}\\t{chStat}\\t{rep_area}\\t{chLen}\\t{noNs_chLen}\\t{perc}\\t{noNs_perc}\\n\")"
   ]
  },
  {
   "cell_type": "markdown",
   "metadata": {},
   "source": [
    "## MITEs"
   ]
  },
  {
   "cell_type": "code",
   "execution_count": 59,
   "metadata": {},
   "outputs": [],
   "source": [
    "! rm -rf MITE_supfams/\n",
    "! mkdir MITE_supfams \n",
    "! grep 'MITE/DTA' MITE_TEs_subset.gff > MITE_supfams/DTA_subset.gff\n",
    "! grep 'MITE/DTC' MITE_TEs_subset.gff > MITE_supfams/DTC_subset.gff\n",
    "! grep 'MITE/DTH' MITE_TEs_subset.gff > MITE_supfams/DTH_subset.gff\n",
    "! grep 'MITE/DTM' MITE_TEs_subset.gff > MITE_supfams/DTM_subset.gff\n",
    "! grep 'MITE/DTT' MITE_TEs_subset.gff > MITE_supfams/DTT_subset.gff"
   ]
  },
  {
   "cell_type": "code",
   "execution_count": 60,
   "metadata": {
    "scrolled": true
   },
   "outputs": [
    {
     "name": "stdout",
     "output_type": "stream",
     "text": [
      "chr1\tCACTA\t7489\t200709468\t0.0037\t200602813\t0.0037\n",
      "chr10\tCACTA\t61561\t165488795\t0.0372\t165474827\t0.0372\n",
      "chr11\tCACTA\t1121\t209616475\t0.0005\t209211419\t0.0005\n",
      "chr2\tCACTA\t3274\t199635652\t0.0016\t199336714\t0.0016\n",
      "chr3\tCACTA\t2709\t153359320\t0.0018\t152962667\t0.0018\n",
      "chr4\tCACTA\t8952\t112764170\t0.0079\t112739747\t0.0079\n",
      "chr5\tCACTA\t10904\t91147008\t0.012\t87672558\t0.0124\n",
      "chr6\tCACTA\t8277\t141279031\t0.0059\t138463458\t0.006\n",
      "chr7\tCACTA\t16361\t128518071\t0.0127\t127163725\t0.0129\n",
      "chr8\tCACTA\t2026\t113857337\t0.0018\t110818139\t0.0018\n",
      "chr9\tCACTA\t25586\t226323612\t0.0113\t225456203\t0.0113\n",
      "chrX\tCACTA\t25475\t346484273\t0.0074\t323749825\t0.0079\n",
      "chrY\tCACTA\t6623\t497814031\t0.0013\t494938722\t0.0013\n",
      "chr1\tMutator\t268761\t200709468\t0.1339\t200602813\t0.134\n",
      "chr10\tMutator\t6042901\t165488795\t3.6515\t165474827\t3.6519\n",
      "chr11\tMutator\t1174205\t209616475\t0.5602\t209211419\t0.5613\n",
      "chr2\tMutator\t2649403\t199635652\t1.3271\t199336714\t1.3291\n",
      "chr3\tMutator\t280505\t153359320\t0.1829\t152962667\t0.1834\n",
      "chr4\tMutator\t310526\t112764170\t0.2754\t112739747\t0.2754\n",
      "chr5\tMutator\t175910\t91147008\t0.193\t87672558\t0.2006\n",
      "chr6\tMutator\t407337\t141279031\t0.2883\t138463458\t0.2942\n",
      "chr7\tMutator\t3302878\t128518071\t2.57\t127163725\t2.5973\n",
      "chr8\tMutator\t214554\t113857337\t0.1884\t110818139\t0.1936\n",
      "chr9\tMutator\t674408\t226323612\t0.298\t225456203\t0.2991\n",
      "chrX\tMutator\t4980455\t346484273\t1.4374\t323749825\t1.5384\n",
      "chrY\tMutator\t1621516\t497814031\t0.3257\t494938722\t0.3276\n",
      "chr1\tPIF/Harbinger\t273384\t200709468\t0.1362\t200602813\t0.1363\n",
      "chr10\tPIF/Harbinger\t189163\t165488795\t0.1143\t165474827\t0.1143\n",
      "chr11\tPIF/Harbinger\t194468\t209616475\t0.0928\t209211419\t0.093\n",
      "chr2\tPIF/Harbinger\t286495\t199635652\t0.1435\t199336714\t0.1437\n",
      "chr3\tPIF/Harbinger\t148143\t153359320\t0.0966\t152962667\t0.0968\n",
      "chr4\tPIF/Harbinger\t160965\t112764170\t0.1427\t112739747\t0.1428\n",
      "chr5\tPIF/Harbinger\t202207\t91147008\t0.2218\t87672558\t0.2306\n",
      "chr6\tPIF/Harbinger\t131283\t141279031\t0.0929\t138463458\t0.0948\n",
      "chr7\tPIF/Harbinger\t213334\t128518071\t0.166\t127163725\t0.1678\n",
      "chr8\tPIF/Harbinger\t118943\t113857337\t0.1045\t110818139\t0.1073\n",
      "chr9\tPIF/Harbinger\t159880\t226323612\t0.0706\t225456203\t0.0709\n",
      "chrX\tPIF/Harbinger\t264641\t346484273\t0.0764\t323749825\t0.0817\n",
      "chrY\tPIF/Harbinger\t294967\t497814031\t0.0593\t494938722\t0.0596\n",
      "chr1\tTcl/Mariner\t310347\t200709468\t0.1546\t200602813\t0.1547\n",
      "chr10\tTcl/Mariner\t285776\t165488795\t0.1727\t165474827\t0.1727\n",
      "chr11\tTcl/Mariner\t262224\t209616475\t0.1251\t209211419\t0.1253\n",
      "chr2\tTcl/Mariner\t388689\t199635652\t0.1947\t199336714\t0.195\n",
      "chr3\tTcl/Mariner\t294814\t153359320\t0.1922\t152962667\t0.1927\n",
      "chr4\tTcl/Mariner\t243657\t112764170\t0.2161\t112739747\t0.2161\n",
      "chr5\tTcl/Mariner\t226359\t91147008\t0.2483\t87672558\t0.2582\n",
      "chr6\tTcl/Mariner\t209097\t141279031\t0.148\t138463458\t0.151\n",
      "chr7\tTcl/Mariner\t192727\t128518071\t0.15\t127163725\t0.1516\n",
      "chr8\tTcl/Mariner\t225609\t113857337\t0.1982\t110818139\t0.2036\n",
      "chr9\tTcl/Mariner\t251459\t226323612\t0.1111\t225456203\t0.1115\n",
      "chrX\tTcl/Mariner\t333553\t346484273\t0.0963\t323749825\t0.103\n",
      "chrY\tTcl/Mariner\t341342\t497814031\t0.0686\t494938722\t0.069\n",
      "chr1\thAT\t446370\t200709468\t0.2224\t200602813\t0.2225\n",
      "chr10\thAT\t510544\t165488795\t0.3085\t165474827\t0.3085\n",
      "chr11\thAT\t408030\t209616475\t0.1947\t209211419\t0.195\n",
      "chr2\thAT\t530312\t199635652\t0.2656\t199336714\t0.266\n",
      "chr3\thAT\t355997\t153359320\t0.2321\t152962667\t0.2327\n",
      "chr4\thAT\t295513\t112764170\t0.2621\t112739747\t0.2621\n",
      "chr5\thAT\t321431\t91147008\t0.3527\t87672558\t0.3666\n",
      "chr6\thAT\t460451\t141279031\t0.3259\t138463458\t0.3325\n",
      "chr7\thAT\t331851\t128518071\t0.2582\t127163725\t0.261\n",
      "chr8\thAT\t329771\t113857337\t0.2896\t110818139\t0.2976\n",
      "chr9\thAT\t390452\t226323612\t0.1725\t225456203\t0.1732\n",
      "chrX\thAT\t580171\t346484273\t0.1674\t323749825\t0.1792\n",
      "chrY\thAT\t559051\t497814031\t0.1123\t494938722\t0.113\n"
     ]
    }
   ],
   "source": [
    "# DNA autonomous TEs\n",
    "annot_dict = {\"DNA/DTA\":\"hAT\", \"DNA/DTC\":\"CACTA\", \"DNA/DTH\":\"PIF/Harbinger\", \n",
    "              \"DNA/DTM\":\"Mutator\", \"DNA/DTT\":\"Tcl/Mariner\",\n",
    "              \"DNA/Helitron\":\"Helitron\", \"LTR/Copia\":\"Ty1/Copia\", \"LTR/Gypsy\":\"Ty3/Gypsy\", \n",
    "              \"LTR/unknown\":\"Unknown\",\n",
    "              \"MITE/DTA\":\"hAT\", \"MITE/DTC\":\"CACTA\", \"MITE/DTH\":\"PIF/Harbinger\",\n",
    "              \"MITE/DTM\":\"Mutator\", \"MITE/DTT\":\"Tcl/Mariner\"}\n",
    "axy_dict = {}\n",
    "for gff in glob.glob(\"MITE_supfams/*.gff\"):\n",
    "    merged_bed = gff.split('.')[0]+\"_merged.bed\"\n",
    "    cmd = f\"bedtools merge -i {gff} > {merged_bed}\"\n",
    "    returned_value = os.system(cmd)  # returns the exit code in unix\n",
    "    #print(f'CMD:{cmd}\\nreturned value:{returned_value}')\n",
    "    ann = annot_dict[\"MITE/\"+gff.split(\"/\")[1].split(\"_\")[0]]\n",
    "    axy_dict[ann] = {'A':[0,0,0],'X':[0,0,0],'Y':[0,0,0]}\n",
    "    for ch in chrLen:\n",
    "        rep_area = get_repArea(merged_bed, ch)\n",
    "        chStat = get_chStat(ch)\n",
    "        axy_dict[ann][chStat][0] += rep_area\n",
    "        axy_dict[ann][chStat][1] += chrLen[ch]\n",
    "        axy_dict[ann][chStat][2] += noNs_chrLen[ch]\n",
    "        #print(ann,chStat,ch,axy_dict[ann][chStat])\n",
    "        #axy_dict[ann][chStat].append([rep_area,chrLen[ch],noNs_chrLen[ch]])\n",
    "        perc = round((rep_area/chrLen[ch])*100,4)\n",
    "        nns_perc = round((rep_area/noNs_chrLen[ch])*100,4)\n",
    "        print(f\"{ch}\\t{ann}\\t{rep_area}\\t{chrLen[ch]}\\t{perc}\\t{noNs_chrLen[ch]}\\t{nns_perc}\") "
   ]
  },
  {
   "cell_type": "code",
   "execution_count": 61,
   "metadata": {
    "scrolled": true
   },
   "outputs": [],
   "source": [
    "# MITE TEs tab:\n",
    "with open(\"Slat_DNA_MITE_proportion.tab\",\"w\") as out:\n",
    "    for ann in axy_dict:\n",
    "        for chStat in axy_dict[ann]:\n",
    "            rep_area = axy_dict[ann][chStat][0]\n",
    "            chLen = axy_dict[ann][chStat][1]\n",
    "            noNs_chLen = axy_dict[ann][chStat][2]\n",
    "            perc = round((rep_area/chLen)*100,4)\n",
    "            noNs_perc = round((rep_area/noNs_chLen)*100,4)\n",
    "            out.write(f\"{ann}\\t{chStat}\\t{rep_area}\\t{chLen}\\t{noNs_chLen}\\t{perc}\\t{noNs_perc}\\n\")"
   ]
  },
  {
   "cell_type": "markdown",
   "metadata": {},
   "source": [
    "## Satellites"
   ]
  },
  {
   "cell_type": "code",
   "execution_count": 170,
   "metadata": {},
   "outputs": [
    {
     "data": {
      "text/plain": [
       "['CL12_25SrDNA+TR1+X431_8470bp',\n",
       " 'CL12_X43.1_312bp',\n",
       " 'CL12_TR1_74bp',\n",
       " 'CL16_STAR_43bp',\n",
       " 'CL68_TRAYC_165bp',\n",
       " 'CL87_15Ssp_159bp',\n",
       " 'CL99_5SrDNA+spacer_364bp',\n",
       " 'SIlL1',\n",
       " 'SilL2']"
      ]
     },
     "execution_count": 170,
     "metadata": {},
     "output_type": "execute_result"
    }
   ],
   "source": [
    "# satellites\n",
    "satHeads = [\"CL12_25SrDNA+TR1+X431_8470bp#rDNATR1X431\", \"CL12_X43.1_312bp#X431CL12\", \"CL12_TR1_74bp#TR1CL12\", \n",
    "    \"CL16_STAR_43bp#STARCL16\", \"CL68_TRAYC_165bp#TRAYCCL68\", \n",
    "    \"CL87_15Ssp_159bp#15SCL87\", \"CL99_5SrDNA+spacer_364bp#5SCL99\", \"SIlL1#CEN\", \"SilL2#CEN\"]\n",
    "\n",
    "subSat = [sat.split(\"#\")[0] for sat in satHeads]\n",
    "subSat"
   ]
  },
  {
   "cell_type": "code",
   "execution_count": 62,
   "metadata": {},
   "outputs": [],
   "source": [
    "! mkdir SAT_subsets"
   ]
  },
  {
   "cell_type": "code",
   "execution_count": 63,
   "metadata": {},
   "outputs": [],
   "source": [
    "sat_dict = {\"Satellites/STAR-C\":\"STAR-C\",\"Satellites/STAR-Y\":\"STAR-Y\",\"Satellites/TR1\":\"TR1\",\"Satellites/TRAYC\":\"TRAYC\",\"Satellites/X43.1\":\"X43.1\"}\n",
    "\n",
    "for sat in sat_dict:\n",
    "    out_name = 'SAT_subsets/'+sat_dict[sat]+'_subset.gff'\n",
    "    with open(out_name,'w') as out:\n",
    "        with open(\"satellites_subset.gff\") as gff:\n",
    "            for l in gff:\n",
    "                if sat in l:\n",
    "                    out.write(l)"
   ]
  },
  {
   "cell_type": "code",
   "execution_count": 64,
   "metadata": {},
   "outputs": [
    {
     "name": "stdout",
     "output_type": "stream",
     "text": [
      "chr1\tSTAR-C\t1721282\t200709468\t0.8576\t200602813\t0.8581\n",
      "chr10\tSTAR-C\t728037\t165488795\t0.4399\t165474827\t0.44\n",
      "chr11\tSTAR-C\t1478224\t209616475\t0.7052\t209211419\t0.7066\n",
      "chr2\tSTAR-C\t1408831\t199635652\t0.7057\t199336714\t0.7068\n",
      "chr3\tSTAR-C\t1530167\t153359320\t0.9978\t152962667\t1.0004\n",
      "chr4\tSTAR-C\t337058\t112764170\t0.2989\t112739747\t0.299\n",
      "chr5\tSTAR-C\t50005\t91147008\t0.0549\t87672558\t0.057\n",
      "chr6\tSTAR-C\t1188794\t141279031\t0.8415\t138463458\t0.8586\n",
      "chr7\tSTAR-C\t99874\t128518071\t0.0777\t127163725\t0.0785\n",
      "chr8\tSTAR-C\t57701\t113857337\t0.0507\t110818139\t0.0521\n",
      "chr9\tSTAR-C\t4076308\t226323612\t1.8011\t225456203\t1.808\n",
      "chrX\tSTAR-C\t477991\t346484273\t0.138\t323749825\t0.1476\n",
      "chrY\tSTAR-C\t701719\t497814031\t0.141\t494938722\t0.1418\n",
      "chr1\tSTAR-Y\t46\t200709468\t0.0\t200602813\t0.0\n",
      "chr10\tSTAR-Y\t933\t165488795\t0.0006\t165474827\t0.0006\n",
      "chr11\tSTAR-Y\t552\t209616475\t0.0003\t209211419\t0.0003\n",
      "chr2\tSTAR-Y\t2408\t199635652\t0.0012\t199336714\t0.0012\n",
      "chr3\tSTAR-Y\t592\t153359320\t0.0004\t152962667\t0.0004\n",
      "chr4\tSTAR-Y\t52\t112764170\t0.0\t112739747\t0.0\n",
      "chr5\tSTAR-Y\t0\t91147008\t0.0\t87672558\t0.0\n",
      "chr6\tSTAR-Y\t31943\t141279031\t0.0226\t138463458\t0.0231\n",
      "chr7\tSTAR-Y\t42\t128518071\t0.0\t127163725\t0.0\n",
      "chr8\tSTAR-Y\t312\t113857337\t0.0003\t110818139\t0.0003\n",
      "chr9\tSTAR-Y\t3740\t226323612\t0.0017\t225456203\t0.0017\n",
      "chrX\tSTAR-Y\t6352\t346484273\t0.0018\t323749825\t0.002\n",
      "chrY\tSTAR-Y\t529482\t497814031\t0.1064\t494938722\t0.107\n",
      "chr1\tTRAYC\t529385\t200709468\t0.2638\t200602813\t0.2639\n",
      "chr10\tTRAYC\t1275176\t165488795\t0.7706\t165474827\t0.7706\n",
      "chr11\tTRAYC\t1036316\t209616475\t0.4944\t209211419\t0.4953\n",
      "chr2\tTRAYC\t894217\t199635652\t0.4479\t199336714\t0.4486\n",
      "chr3\tTRAYC\t154033\t153359320\t0.1004\t152962667\t0.1007\n",
      "chr4\tTRAYC\t132291\t112764170\t0.1173\t112739747\t0.1173\n",
      "chr5\tTRAYC\t32042\t91147008\t0.0352\t87672558\t0.0365\n",
      "chr6\tTRAYC\t144110\t141279031\t0.102\t138463458\t0.1041\n",
      "chr7\tTRAYC\t68717\t128518071\t0.0535\t127163725\t0.054\n",
      "chr8\tTRAYC\t267689\t113857337\t0.2351\t110818139\t0.2416\n",
      "chr9\tTRAYC\t385711\t226323612\t0.1704\t225456203\t0.1711\n",
      "chrX\tTRAYC\t1412527\t346484273\t0.4077\t323749825\t0.4363\n",
      "chrY\tTRAYC\t4339951\t497814031\t0.8718\t494938722\t0.8769\n",
      "chr1\tTR1\t11524\t200709468\t0.0057\t200602813\t0.0057\n",
      "chr10\tTR1\t0\t165488795\t0.0\t165474827\t0.0\n",
      "chr11\tTR1\t652\t209616475\t0.0003\t209211419\t0.0003\n",
      "chr2\tTR1\t17005\t199635652\t0.0085\t199336714\t0.0085\n",
      "chr3\tTR1\t219\t153359320\t0.0001\t152962667\t0.0001\n",
      "chr4\tTR1\t0\t112764170\t0.0\t112739747\t0.0\n",
      "chr5\tTR1\t0\t91147008\t0.0\t87672558\t0.0\n",
      "chr6\tTR1\t13591\t141279031\t0.0096\t138463458\t0.0098\n",
      "chr7\tTR1\t362\t128518071\t0.0003\t127163725\t0.0003\n",
      "chr8\tTR1\t0\t113857337\t0.0\t110818139\t0.0\n",
      "chr9\tTR1\t13232\t226323612\t0.0058\t225456203\t0.0059\n",
      "chrX\tTR1\t1882\t346484273\t0.0005\t323749825\t0.0006\n",
      "chrY\tTR1\t3699\t497814031\t0.0007\t494938722\t0.0007\n",
      "chr1\tX43.1\t1649957\t200709468\t0.8221\t200602813\t0.8225\n",
      "chr10\tX43.1\t5509157\t165488795\t3.329\t165474827\t3.3293\n",
      "chr11\tX43.1\t2592544\t209616475\t1.2368\t209211419\t1.2392\n",
      "chr2\tX43.1\t1852247\t199635652\t0.9278\t199336714\t0.9292\n",
      "chr3\tX43.1\t2292665\t153359320\t1.495\t152962667\t1.4988\n",
      "chr4\tX43.1\t280968\t112764170\t0.2492\t112739747\t0.2492\n",
      "chr5\tX43.1\t594380\t91147008\t0.6521\t87672558\t0.678\n",
      "chr6\tX43.1\t585364\t141279031\t0.4143\t138463458\t0.4228\n",
      "chr7\tX43.1\t3227295\t128518071\t2.5112\t127163725\t2.5379\n",
      "chr8\tX43.1\t1502007\t113857337\t1.3192\t110818139\t1.3554\n",
      "chr9\tX43.1\t1565581\t226323612\t0.6917\t225456203\t0.6944\n",
      "chrX\tX43.1\t5095389\t346484273\t1.4706\t323749825\t1.5739\n",
      "chrY\tX43.1\t50266\t497814031\t0.0101\t494938722\t0.0102\n"
     ]
    }
   ],
   "source": [
    "axy_dict = {}\n",
    "for gff in glob.glob(\"SAT_subsets/*.gff\"):\n",
    "    merged_bed = gff.split('.')[0]+\"_merged.bed\"\n",
    "    cmd = f\"bedtools merge -i {gff} > {merged_bed}\"\n",
    "    returned_value = os.system(cmd)  # returns the exit code in unix\n",
    "    #print(f'CMD:{cmd}\\nreturned value:{returned_value}')\n",
    "    ann = gff.split(\"/\")[1].split(\"_\")[0]\n",
    "    axy_dict[ann] = {'A':[0,0,0],'X':[0,0,0],'Y':[0,0,0]}\n",
    "    for ch in chrLen:\n",
    "        rep_area = get_repArea(merged_bed, ch)\n",
    "        chStat = get_chStat(ch)\n",
    "        axy_dict[ann][chStat][0] += rep_area\n",
    "        axy_dict[ann][chStat][1] += chrLen[ch]\n",
    "        axy_dict[ann][chStat][2] += noNs_chrLen[ch]\n",
    "        #print(ann,chStat,ch,axy_dict[ann][chStat])\n",
    "        #axy_dict[ann][chStat].append([rep_area,chrLen[ch],noNs_chrLen[ch]])\n",
    "        perc = round((rep_area/chrLen[ch])*100,4)\n",
    "        nns_perc = round((rep_area/noNs_chrLen[ch])*100,4)\n",
    "        print(f\"{ch}\\t{ann}\\t{rep_area}\\t{chrLen[ch]}\\t{perc}\\t{noNs_chrLen[ch]}\\t{nns_perc}\") "
   ]
  },
  {
   "cell_type": "code",
   "execution_count": 65,
   "metadata": {},
   "outputs": [],
   "source": [
    "# Satellites tab:\n",
    "with open(\"Slat_Satellites_proportion.tab\",\"w\") as out:\n",
    "    for ann in axy_dict:\n",
    "        for chStat in axy_dict[ann]:\n",
    "            rep_area = axy_dict[ann][chStat][0]\n",
    "            chLen = axy_dict[ann][chStat][1]\n",
    "            noNs_chLen = axy_dict[ann][chStat][2]\n",
    "            perc = round((rep_area/chLen)*100,4)\n",
    "            noNs_perc = round((rep_area/noNs_chLen)*100,4)\n",
    "            out.write(f\"{ann}\\t{chStat}\\t{rep_area}\\t{chLen}\\t{noNs_chLen}\\t{perc}\\t{noNs_perc}\\n\")"
   ]
  },
  {
   "cell_type": "markdown",
   "metadata": {},
   "source": [
    "## LINEs"
   ]
  },
  {
   "cell_type": "code",
   "execution_count": 67,
   "metadata": {},
   "outputs": [],
   "source": [
    "! mkdir LINE_subsets"
   ]
  },
  {
   "cell_type": "code",
   "execution_count": 68,
   "metadata": {},
   "outputs": [],
   "source": [
    "# LINE\n",
    "lineHeads=[\"CL55_LINE_3458bp#LINECL55\", \"CL84_LINE_3865bp#LINECL84\", \"CL119_LINE_2075bp#LINECL119\"]\n",
    "lineDict = {v.split(\"#\")[0]:v.split(\"#\")[1] for v in lineHeads}\n",
    "for line in lineDict:\n",
    "    out_name = 'LINE_subsets/'+lineDict[line]+'_subset.gff'\n",
    "    with open(out_name,'w') as out:\n",
    "        with open(\"LINE_subset.gff\") as gff:\n",
    "            for l in gff:\n",
    "                if 'Motif:'+line in l:\n",
    "                    out.write(l)\n",
    "                elif lineDict[line] in l:\n",
    "                    out.write(l)"
   ]
  },
  {
   "cell_type": "code",
   "execution_count": 69,
   "metadata": {
    "scrolled": true
   },
   "outputs": [
    {
     "name": "stdout",
     "output_type": "stream",
     "text": [
      "chr1\tLINECL84\t282872\t200709468\t0.1409\t200602813\t0.141\n",
      "chr10\tLINECL84\t227574\t165488795\t0.1375\t165474827\t0.1375\n",
      "chr11\tLINECL84\t290044\t209616475\t0.1384\t209211419\t0.1386\n",
      "chr2\tLINECL84\t299843\t199635652\t0.1502\t199336714\t0.1504\n",
      "chr3\tLINECL84\t202756\t153359320\t0.1322\t152962667\t0.1326\n",
      "chr4\tLINECL84\t147524\t112764170\t0.1308\t112739747\t0.1309\n",
      "chr5\tLINECL84\t137075\t91147008\t0.1504\t87672558\t0.1563\n",
      "chr6\tLINECL84\t201537\t141279031\t0.1427\t138463458\t0.1456\n",
      "chr7\tLINECL84\t203710\t128518071\t0.1585\t127163725\t0.1602\n",
      "chr8\tLINECL84\t156389\t113857337\t0.1374\t110818139\t0.1411\n",
      "chr9\tLINECL84\t240990\t226323612\t0.1065\t225456203\t0.1069\n",
      "chrX\tLINECL84\t298149\t346484273\t0.086\t323749825\t0.0921\n",
      "chrY\tLINECL84\t672896\t497814031\t0.1352\t494938722\t0.136\n",
      "chr1\tLINECL55\t693887\t200709468\t0.3457\t200602813\t0.3459\n",
      "chr10\tLINECL55\t464221\t165488795\t0.2805\t165474827\t0.2805\n",
      "chr11\tLINECL55\t988950\t209616475\t0.4718\t209211419\t0.4727\n",
      "chr2\tLINECL55\t602491\t199635652\t0.3018\t199336714\t0.3022\n",
      "chr3\tLINECL55\t433115\t153359320\t0.2824\t152962667\t0.2832\n",
      "chr4\tLINECL55\t370309\t112764170\t0.3284\t112739747\t0.3285\n",
      "chr5\tLINECL55\t267351\t91147008\t0.2933\t87672558\t0.3049\n",
      "chr6\tLINECL55\t391240\t141279031\t0.2769\t138463458\t0.2826\n",
      "chr7\tLINECL55\t386249\t128518071\t0.3005\t127163725\t0.3037\n",
      "chr8\tLINECL55\t416922\t113857337\t0.3662\t110818139\t0.3762\n",
      "chr9\tLINECL55\t757247\t226323612\t0.3346\t225456203\t0.3359\n",
      "chrX\tLINECL55\t1259306\t346484273\t0.3635\t323749825\t0.389\n",
      "chrY\tLINECL55\t2647301\t497814031\t0.5318\t494938722\t0.5349\n",
      "chr1\tLINECL119\t193470\t200709468\t0.0964\t200602813\t0.0964\n",
      "chr10\tLINECL119\t162218\t165488795\t0.098\t165474827\t0.098\n",
      "chr11\tLINECL119\t184538\t209616475\t0.088\t209211419\t0.0882\n",
      "chr2\tLINECL119\t182672\t199635652\t0.0915\t199336714\t0.0916\n",
      "chr3\tLINECL119\t139142\t153359320\t0.0907\t152962667\t0.091\n",
      "chr4\tLINECL119\t104824\t112764170\t0.093\t112739747\t0.093\n",
      "chr5\tLINECL119\t98827\t91147008\t0.1084\t87672558\t0.1127\n",
      "chr6\tLINECL119\t144560\t141279031\t0.1023\t138463458\t0.1044\n",
      "chr7\tLINECL119\t126671\t128518071\t0.0986\t127163725\t0.0996\n",
      "chr8\tLINECL119\t119414\t113857337\t0.1049\t110818139\t0.1078\n",
      "chr9\tLINECL119\t129592\t226323612\t0.0573\t225456203\t0.0575\n",
      "chrX\tLINECL119\t224106\t346484273\t0.0647\t323749825\t0.0692\n",
      "chrY\tLINECL119\t296863\t497814031\t0.0596\t494938722\t0.06\n"
     ]
    }
   ],
   "source": [
    "axy_dict = {}\n",
    "for gff in glob.glob(\"LINE_subsets/*.gff\"):\n",
    "    merged_bed = gff.split('.')[0]+\"_merged.bed\"\n",
    "    cmd = f\"bedtools merge -i {gff} > {merged_bed}\"\n",
    "    returned_value = os.system(cmd)  # returns the exit code in unix\n",
    "    #print(f'CMD:{cmd}\\nreturned value:{returned_value}')\n",
    "    ann = gff.split(\"/\")[1].split(\"_\")[0]\n",
    "    axy_dict[ann] = {'A':[0,0,0],'X':[0,0,0],'Y':[0,0,0]}\n",
    "    for ch in chrLen:\n",
    "        rep_area = get_repArea(merged_bed, ch)\n",
    "        chStat = get_chStat(ch)\n",
    "        axy_dict[ann][chStat][0] += rep_area\n",
    "        axy_dict[ann][chStat][1] += chrLen[ch]\n",
    "        axy_dict[ann][chStat][2] += noNs_chrLen[ch]\n",
    "        #print(ann,chStat,ch,axy_dict[ann][chStat])\n",
    "        #axy_dict[ann][chStat].append([rep_area,chrLen[ch],noNs_chrLen[ch]])\n",
    "        perc = round((rep_area/chrLen[ch])*100,4)\n",
    "        nns_perc = round((rep_area/noNs_chrLen[ch])*100,4)\n",
    "        print(f\"{ch}\\t{ann}\\t{rep_area}\\t{chrLen[ch]}\\t{perc}\\t{noNs_chrLen[ch]}\\t{nns_perc}\") "
   ]
  },
  {
   "cell_type": "code",
   "execution_count": 70,
   "metadata": {},
   "outputs": [],
   "source": [
    "# LINEs tab:\n",
    "with open(\"Slat_LINE_proportion.tab\",\"w\") as out:\n",
    "    for ann in axy_dict:\n",
    "        for chStat in axy_dict[ann]:\n",
    "            rep_area = axy_dict[ann][chStat][0]\n",
    "            chLen = axy_dict[ann][chStat][1]\n",
    "            noNs_chLen = axy_dict[ann][chStat][2]\n",
    "            perc = round((rep_area/chLen)*100,4)\n",
    "            noNs_perc = round((rep_area/noNs_chLen)*100,4)\n",
    "            out.write(f\"{ann}\\t{chStat}\\t{rep_area}\\t{chLen}\\t{noNs_chLen}\\t{perc}\\t{noNs_perc}\\n\")"
   ]
  },
  {
   "cell_type": "markdown",
   "metadata": {},
   "source": [
    "## rDNAs"
   ]
  },
  {
   "cell_type": "code",
   "execution_count": 72,
   "metadata": {},
   "outputs": [
    {
     "name": "stdout",
     "output_type": "stream",
     "text": [
      "chr1\tRepeatMasker\tsimilarity\t81858311\t81858625\t 2.9\t-\t.\tClassification=rDNA/5S;RM_attribute=Target|\"Motif:CL99_5SrDNA+spacer_364bp\"|1|314\r\n",
      "chr1\tRepeatMasker\tsimilarity\t82167797\t82168158\t 5.5\t-\t.\tClassification=rDNA/5S;RM_attribute=Target|\"Motif:CL99_5SrDNA+spacer_364bp\"|1|351\r\n",
      "chr1\tRepeatMasker\tsimilarity\t82168159\t82168514\t 6.5\t-\t.\tClassification=rDNA/5S;RM_attribute=Target|\"Motif:CL99_5SrDNA+spacer_364bp\"|1|364\r\n",
      "chr1\tRepeatMasker\tsimilarity\t82168515\t82168872\t 4.2\t-\t.\tClassification=rDNA/5S;RM_attribute=Target|\"Motif:CL99_5SrDNA+spacer_364bp\"|1|364\r\n",
      "chr1\tRepeatMasker\tsimilarity\t82168873\t82169236\t 7.4\t-\t.\tClassification=rDNA/5S;RM_attribute=Target|\"Motif:CL99_5SrDNA+spacer_364bp\"|1|364\r\n",
      "chr1\tRepeatMasker\tsimilarity\t82169237\t82169584\t 7.2\t-\t.\tClassification=rDNA/5S;RM_attribute=Target|\"Motif:CL99_5SrDNA+spacer_364bp\"|1|364\r\n",
      "chr1\tRepeatMasker\tsimilarity\t82169585\t82169946\t 6.0\t-\t.\tClassification=rDNA/5S;RM_attribute=Target|\"Motif:CL99_5SrDNA+spacer_364bp\"|1|364\r\n",
      "chr1\tRepeatMasker\tsimilarity\t82169947\t82170308\t 7.2\t-\t.\tClassification=rDNA/5S;RM_attribute=Target|\"Motif:CL99_5SrDNA+spacer_364bp\"|1|364\r\n",
      "chr1\tRepeatMasker\tsimilarity\t82170309\t82170663\t 5.3\t-\t.\tClassification=rDNA/5S;RM_attribute=Target|\"Motif:CL99_5SrDNA+spacer_364bp\"|2|364\r\n",
      "chr1\tRepeatMasker\tsimilarity\t82170665\t82171031\t 5.0\t-\t.\tClassification=rDNA/5S;RM_attribute=Target|\"Motif:CL99_5SrDNA+spacer_364bp\"|1|364\r\n"
     ]
    }
   ],
   "source": [
    "! head rdna_subset.gff"
   ]
  },
  {
   "cell_type": "code",
   "execution_count": 73,
   "metadata": {},
   "outputs": [],
   "source": [
    "! mkdir rDNA_subsets"
   ]
  },
  {
   "cell_type": "code",
   "execution_count": 75,
   "metadata": {},
   "outputs": [],
   "source": [
    "for rdna in ['rDNA/5S','rDNA/45S']:\n",
    "    out_name = 'rDNA_subsets/'+rdna.split(\"/\")[1]+'_subset.gff'\n",
    "    with open(out_name,'w') as out:\n",
    "        with open(\"rdna_subset.gff\") as gff:\n",
    "            for l in gff:\n",
    "                if 'Classification='+rdna+\";\" in l:\n",
    "                    out.write(l)\n",
    "                elif lineDict[line] in l:\n",
    "                    out.write(l)"
   ]
  },
  {
   "cell_type": "code",
   "execution_count": 76,
   "metadata": {},
   "outputs": [
    {
     "name": "stdout",
     "output_type": "stream",
     "text": [
      "chr1\t45S\t89082\t200709468\t0.0444\t200602813\t0.0444\n",
      "chr10\t45S\t0\t165488795\t0.0\t165474827\t0.0\n",
      "chr11\t45S\t1282\t209616475\t0.0006\t209211419\t0.0006\n",
      "chr2\t45S\t89458\t199635652\t0.0448\t199336714\t0.0449\n",
      "chr3\t45S\t0\t153359320\t0.0\t152962667\t0.0\n",
      "chr4\t45S\t0\t112764170\t0.0\t112739747\t0.0\n",
      "chr5\t45S\t0\t91147008\t0.0\t87672558\t0.0\n",
      "chr6\t45S\t37032\t141279031\t0.0262\t138463458\t0.0267\n",
      "chr7\t45S\t0\t128518071\t0.0\t127163725\t0.0\n",
      "chr8\t45S\t0\t113857337\t0.0\t110818139\t0.0\n",
      "chr9\t45S\t147787\t226323612\t0.0653\t225456203\t0.0656\n",
      "chrX\t45S\t16283\t346484273\t0.0047\t323749825\t0.005\n",
      "chrY\t45S\t78416\t497814031\t0.0158\t494938722\t0.0158\n",
      "chr1\t5S\t107100\t200709468\t0.0534\t200602813\t0.0534\n",
      "chr10\t5S\t0\t165488795\t0.0\t165474827\t0.0\n",
      "chr11\t5S\t362\t209616475\t0.0002\t209211419\t0.0002\n",
      "chr2\t5S\t87049\t199635652\t0.0436\t199336714\t0.0437\n",
      "chr3\t5S\t0\t153359320\t0.0\t152962667\t0.0\n",
      "chr4\t5S\t2573\t112764170\t0.0023\t112739747\t0.0023\n",
      "chr5\t5S\t0\t91147008\t0.0\t87672558\t0.0\n",
      "chr6\t5S\t0\t141279031\t0.0\t138463458\t0.0\n",
      "chr7\t5S\t0\t128518071\t0.0\t127163725\t0.0\n",
      "chr8\t5S\t0\t113857337\t0.0\t110818139\t0.0\n",
      "chr9\t5S\t93035\t226323612\t0.0411\t225456203\t0.0413\n",
      "chrX\t5S\t0\t346484273\t0.0\t323749825\t0.0\n",
      "chrY\t5S\t0\t497814031\t0.0\t494938722\t0.0\n"
     ]
    }
   ],
   "source": [
    "axy_dict = {}\n",
    "for gff in glob.glob(\"rDNA_subsets/*.gff\"):\n",
    "    merged_bed = gff.split('.')[0]+\"_merged.bed\"\n",
    "    cmd = f\"bedtools merge -i {gff} > {merged_bed}\"\n",
    "    returned_value = os.system(cmd)  # returns the exit code in unix\n",
    "    #print(f'CMD:{cmd}\\nreturned value:{returned_value}')\n",
    "    ann = gff.split(\"/\")[1].split(\"_\")[0]\n",
    "    axy_dict[ann] = {'A':[0,0,0],'X':[0,0,0],'Y':[0,0,0]}\n",
    "    for ch in chrLen:\n",
    "        rep_area = get_repArea(merged_bed, ch)\n",
    "        chStat = get_chStat(ch)\n",
    "        axy_dict[ann][chStat][0] += rep_area\n",
    "        axy_dict[ann][chStat][1] += chrLen[ch]\n",
    "        axy_dict[ann][chStat][2] += noNs_chrLen[ch]\n",
    "        #print(ann,chStat,ch,axy_dict[ann][chStat])\n",
    "        #axy_dict[ann][chStat].append([rep_area,chrLen[ch],noNs_chrLen[ch]])\n",
    "        perc = round((rep_area/chrLen[ch])*100,4)\n",
    "        nns_perc = round((rep_area/noNs_chrLen[ch])*100,4)\n",
    "        print(f\"{ch}\\t{ann}\\t{rep_area}\\t{chrLen[ch]}\\t{perc}\\t{noNs_chrLen[ch]}\\t{nns_perc}\") "
   ]
  },
  {
   "cell_type": "code",
   "execution_count": 77,
   "metadata": {},
   "outputs": [],
   "source": [
    "# rDNA tab:\n",
    "with open(\"Slat_rDNA_proportion.tab\",\"w\") as out:\n",
    "    for ann in axy_dict:\n",
    "        for chStat in axy_dict[ann]:\n",
    "            rep_area = axy_dict[ann][chStat][0]\n",
    "            chLen = axy_dict[ann][chStat][1]\n",
    "            noNs_chLen = axy_dict[ann][chStat][2]\n",
    "            perc = round((rep_area/chLen)*100,4)\n",
    "            noNs_perc = round((rep_area/noNs_chLen)*100,4)\n",
    "            out.write(f\"{ann}\\t{chStat}\\t{rep_area}\\t{chLen}\\t{noNs_chLen}\\t{perc}\\t{noNs_perc}\\n\")"
   ]
  },
  {
   "cell_type": "markdown",
   "metadata": {},
   "source": [
    "## cpDNA"
   ]
  },
  {
   "cell_type": "code",
   "execution_count": 81,
   "metadata": {},
   "outputs": [
    {
     "name": "stdout",
     "output_type": "stream",
     "text": [
      "chr1\tRepeatMasker\tsimilarity\t54563\t54668\t 3.9\t-\t.\tClassification=cpDNA;RM_attribute=Target|\"Motif:cpDNA\"|89062|89163\r\n",
      "chr1\tRepeatMasker\tsimilarity\t1107201\t1107316\t12.0\t-\t.\tClassification=cpDNA;RM_attribute=Target|\"Motif:cpDNA\"|115349|115469\r\n",
      "chr1\tRepeatMasker\tsimilarity\t1141963\t1142076\t10.2\t-\t.\tClassification=cpDNA;RM_attribute=Target|\"Motif:cpDNA\"|115349|115469\r\n",
      "chr1\tRepeatMasker\tsimilarity\t1289786\t1289895\t14.7\t-\t.\tClassification=cpDNA;RM_attribute=Target|\"Motif:cpDNA\"|70070|70190\r\n",
      "chr1\tRepeatMasker\tsimilarity\t2195479\t2195662\t14.6\t+\t.\tClassification=cpDNA;RM_attribute=Target|\"Motif:cpDNA\"|64399|64591\r\n",
      "chr1\tRepeatMasker\tsimilarity\t2885726\t2885915\t10.7\t+\t.\tClassification=cpDNA;RM_attribute=Target|\"Motif:cpDNA\"|121043|121249\r\n",
      "chr1\tRepeatMasker\tsimilarity\t3304382\t3304482\t 3.0\t-\t.\tClassification=cpDNA;RM_attribute=Target|\"Motif:cpDNA\"|52243|52343\r\n",
      "chr1\tRepeatMasker\tsimilarity\t3913280\t3913501\t 6.7\t-\t.\tClassification=cpDNA;RM_attribute=Target|\"Motif:cpDNA\"|122576|122797\r\n",
      "chr1\tRepeatMasker\tsimilarity\t4526073\t4526210\t18.8\t+\t.\tClassification=cpDNA;RM_attribute=Target|\"Motif:cpDNA\"|122946|123080\r\n",
      "chr1\tRepeatMasker\tsimilarity\t6028321\t6028570\t14.5\t+\t.\tClassification=cpDNA;RM_attribute=Target|\"Motif:cpDNA\"|129136|129400\r\n"
     ]
    }
   ],
   "source": [
    "! head ../../nupts_numts_Oct2023/Slat_v4_cpDNA_RM.gff"
   ]
  },
  {
   "cell_type": "code",
   "execution_count": 82,
   "metadata": {},
   "outputs": [],
   "source": [
    "! mkdir cpDNA_subsets"
   ]
  },
  {
   "cell_type": "code",
   "execution_count": 83,
   "metadata": {},
   "outputs": [
    {
     "name": "stdout",
     "output_type": "stream",
     "text": [
      "chr1\tcpDNA\t64092\t200709468\t0.0319\t200602813\t0.0319\n",
      "chr10\tcpDNA\t46932\t165488795\t0.0284\t165474827\t0.0284\n",
      "chr11\tcpDNA\t78633\t209616475\t0.0375\t209211419\t0.0376\n",
      "chr2\tcpDNA\t83167\t199635652\t0.0417\t199336714\t0.0417\n",
      "chr3\tcpDNA\t34885\t153359320\t0.0227\t152962667\t0.0228\n",
      "chr4\tcpDNA\t71193\t112764170\t0.0631\t112739747\t0.0631\n",
      "chr5\tcpDNA\t68198\t91147008\t0.0748\t87672558\t0.0778\n",
      "chr6\tcpDNA\t45038\t141279031\t0.0319\t138463458\t0.0325\n",
      "chr7\tcpDNA\t26988\t128518071\t0.021\t127163725\t0.0212\n",
      "chr8\tcpDNA\t52147\t113857337\t0.0458\t110818139\t0.0471\n",
      "chr9\tcpDNA\t231452\t226323612\t0.1023\t225456203\t0.1027\n",
      "chrX\tcpDNA\t179287\t346484273\t0.0517\t323749825\t0.0554\n",
      "chrY\tcpDNA\t637943\t497814031\t0.1281\t494938722\t0.1289\n"
     ]
    }
   ],
   "source": [
    "axy_dict = {}\n",
    "for gff in glob.glob(\"../../nupts_numts_Oct2023/Slat_v4_cpDNA_RM.gff\"):\n",
    "    merged_bed = gff.split(\"/\")[-1].split('.')[0]+\"_merged.bed\"\n",
    "    cmd = f\"bedtools merge -i {gff} > {merged_bed}\"\n",
    "    returned_value = os.system(cmd)  # returns the exit code in unix\n",
    "    #print(f'CMD:{cmd}\\nreturned value:{returned_value}')\n",
    "    ann = \"cpDNA\"\n",
    "    axy_dict[ann] = {'A':[0,0,0],'X':[0,0,0],'Y':[0,0,0]}\n",
    "    for ch in chrLen:\n",
    "        rep_area = get_repArea(merged_bed, ch)\n",
    "        chStat = get_chStat(ch)\n",
    "        axy_dict[ann][chStat][0] += rep_area\n",
    "        axy_dict[ann][chStat][1] += chrLen[ch]\n",
    "        axy_dict[ann][chStat][2] += noNs_chrLen[ch]\n",
    "        #print(ann,chStat,ch,axy_dict[ann][chStat])\n",
    "        #axy_dict[ann][chStat].append([rep_area,chrLen[ch],noNs_chrLen[ch]])\n",
    "        perc = round((rep_area/chrLen[ch])*100,4)\n",
    "        nns_perc = round((rep_area/noNs_chrLen[ch])*100,4)\n",
    "        print(f\"{ch}\\t{ann}\\t{rep_area}\\t{chrLen[ch]}\\t{perc}\\t{noNs_chrLen[ch]}\\t{nns_perc}\") "
   ]
  },
  {
   "cell_type": "code",
   "execution_count": 84,
   "metadata": {},
   "outputs": [],
   "source": [
    "# cpDNA tab:\n",
    "with open(\"Slat_cpDNA_proportion.tab\",\"w\") as out:\n",
    "    for ann in axy_dict:\n",
    "        for chStat in axy_dict[ann]:\n",
    "            rep_area = axy_dict[ann][chStat][0]\n",
    "            chLen = axy_dict[ann][chStat][1]\n",
    "            noNs_chLen = axy_dict[ann][chStat][2]\n",
    "            perc = round((rep_area/chLen)*100,4)\n",
    "            noNs_perc = round((rep_area/noNs_chLen)*100,4)\n",
    "            out.write(f\"{ann}\\t{chStat}\\t{rep_area}\\t{chLen}\\t{noNs_chLen}\\t{perc}\\t{noNs_perc}\\n\")"
   ]
  },
  {
   "cell_type": "code",
   "execution_count": 85,
   "metadata": {},
   "outputs": [
    {
     "name": "stdout",
     "output_type": "stream",
     "text": [
      "chr1\tmtDNA\t942167\t200709468\t0.4694\t200602813\t0.4697\n",
      "chr10\tmtDNA\t762599\t165488795\t0.4608\t165474827\t0.4609\n",
      "chr11\tmtDNA\t886111\t209616475\t0.4227\t209211419\t0.4235\n",
      "chr2\tmtDNA\t1009067\t199635652\t0.5055\t199336714\t0.5062\n",
      "chr3\tmtDNA\t764497\t153359320\t0.4985\t152962667\t0.4998\n",
      "chr4\tmtDNA\t520085\t112764170\t0.4612\t112739747\t0.4613\n",
      "chr5\tmtDNA\t500221\t91147008\t0.5488\t87672558\t0.5706\n",
      "chr6\tmtDNA\t685105\t141279031\t0.4849\t138463458\t0.4948\n",
      "chr7\tmtDNA\t516892\t128518071\t0.4022\t127163725\t0.4065\n",
      "chr8\tmtDNA\t483587\t113857337\t0.4247\t110818139\t0.4364\n",
      "chr9\tmtDNA\t989263\t226323612\t0.4371\t225456203\t0.4388\n",
      "chrX\tmtDNA\t1239453\t346484273\t0.3577\t323749825\t0.3828\n",
      "chrY\tmtDNA\t2312212\t497814031\t0.4645\t494938722\t0.4672\n"
     ]
    }
   ],
   "source": [
    "axy_dict = {}\n",
    "for gff in glob.glob(\"../../nupts_numts_Oct2023/Slat_v4_mtDNA_RM.gff\"):\n",
    "    merged_bed = gff.split(\"/\")[-1].split('.')[0]+\"_merged.bed\"\n",
    "    cmd = f\"bedtools merge -i {gff} > {merged_bed}\"\n",
    "    returned_value = os.system(cmd)  # returns the exit code in unix\n",
    "    #print(f'CMD:{cmd}\\nreturned value:{returned_value}')\n",
    "    ann = \"mtDNA\"\n",
    "    axy_dict[ann] = {'A':[0,0,0],'X':[0,0,0],'Y':[0,0,0]}\n",
    "    for ch in chrLen:\n",
    "        rep_area = get_repArea(merged_bed, ch)\n",
    "        chStat = get_chStat(ch)\n",
    "        axy_dict[ann][chStat][0] += rep_area\n",
    "        axy_dict[ann][chStat][1] += chrLen[ch]\n",
    "        axy_dict[ann][chStat][2] += noNs_chrLen[ch]\n",
    "        #print(ann,chStat,ch,axy_dict[ann][chStat])\n",
    "        #axy_dict[ann][chStat].append([rep_area,chrLen[ch],noNs_chrLen[ch]])\n",
    "        perc = round((rep_area/chrLen[ch])*100,4)\n",
    "        nns_perc = round((rep_area/noNs_chrLen[ch])*100,4)\n",
    "        print(f\"{ch}\\t{ann}\\t{rep_area}\\t{chrLen[ch]}\\t{perc}\\t{noNs_chrLen[ch]}\\t{nns_perc}\") "
   ]
  },
  {
   "cell_type": "code",
   "execution_count": 86,
   "metadata": {},
   "outputs": [],
   "source": [
    "# mtDNA tab:\n",
    "with open(\"Slat_mtDNA_proportion.tab\",\"w\") as out:\n",
    "    for ann in axy_dict:\n",
    "        for chStat in axy_dict[ann]:\n",
    "            rep_area = axy_dict[ann][chStat][0]\n",
    "            chLen = axy_dict[ann][chStat][1]\n",
    "            noNs_chLen = axy_dict[ann][chStat][2]\n",
    "            perc = round((rep_area/chLen)*100,4)\n",
    "            noNs_perc = round((rep_area/noNs_chLen)*100,4)\n",
    "            out.write(f\"{ann}\\t{chStat}\\t{rep_area}\\t{chLen}\\t{noNs_chLen}\\t{perc}\\t{noNs_perc}\\n\")"
   ]
  }
 ],
 "metadata": {
  "kernelspec": {
   "display_name": "Python 3",
   "language": "python",
   "name": "python3"
  },
  "language_info": {
   "codemirror_mode": {
    "name": "ipython",
    "version": 3
   },
   "file_extension": ".py",
   "mimetype": "text/x-python",
   "name": "python",
   "nbconvert_exporter": "python",
   "pygments_lexer": "ipython3",
   "version": "3.8.10"
  }
 },
 "nbformat": 4,
 "nbformat_minor": 5
}
